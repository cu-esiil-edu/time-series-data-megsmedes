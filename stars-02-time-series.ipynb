{
 "cells": [
  {
   "attachments": {},
   "cell_type": "markdown",
   "metadata": {
    "deletable": false,
    "editable": false,
    "hideCode": false,
    "hidePrompt": false,
    "nbgrader": {
     "cell_type": "markdown",
     "checksum": "f12af47cb022924020e918e3f6d16b57",
     "grade": false,
     "grade_id": "instr-headline",
     "locked": true,
     "schema_version": 3,
     "solution": false
    }
   },
   "source": [
    "# In March of 2019 there were floods in South Dakota, USA\n",
    "![](https://theintercept.imgix.net/wp-uploads/sites/1/2019/04/h_15196312-Pipeline-Flooding-1554474495-e1554474625282.jpg?auto=compress%2Cformat&q=90&fit=crop&w=1440&h=720)\n",
    "\n",
    "> Image source: <a src=https://theintercept.com/2019/04/05/keystone-xl-pipeline-pine-ridge-floods/> The Intercept April 5, 2019</a>"
   ]
  },
  {
   "attachments": {},
   "cell_type": "markdown",
   "metadata": {
    "deletable": false,
    "editable": false,
    "nbgrader": {
     "cell_type": "markdown",
     "checksum": "fa8d05bc217a47d3aa3bde245d83e01b",
     "grade": false,
     "grade_id": "instr-intro",
     "locked": true,
     "schema_version": 3,
     "solution": false,
     "task": false
    }
   },
   "source": [
    "In March 2019, large parts of South Dakota were flooded for weeks. What happened to cause this flooding? What impacts did the flooding have? Before we look at data about the flooding, we need to check out what other sources are saying about it.\n",
    "\n",
    "&#128214; Here are some resources from different sources to get you started:\n",
    "  * [The National Weather Service](https://www.weather.gov/unr/2019-05-26_31) \n",
    "  * [South Dakota Public Radio](https://listen.sdpb.org/news/2019-10-17cheyenne-river-tribe-says-oahe-dam-has-caused-problems-for-decades)\n",
    "  * [The Intercept](https://theintercept.com/2019/04/05/keystone-xl-pipeline-pine-ridge-floods/)\n",
    "\n",
    "&#128172; If you or someone you know have experience with this site, or \n",
    "were there during the floods, we also invite you to write about that."
   ]
  },
  {
   "attachments": {},
   "cell_type": "markdown",
   "metadata": {
    "deletable": false,
    "editable": false,
    "nbgrader": {
     "cell_type": "markdown",
     "checksum": "4d2bd1c4945146a088da15dddc1bcc6f",
     "grade": false,
     "grade_id": "task-site",
     "locked": true,
     "points": 7,
     "schema_version": 3,
     "solution": false,
     "task": true
    }
   },
   "source": [
    "\n",
    "## The Cheyenne River near Wasta, SD was one of the locations affected by the flooding\n",
    "\n",
    "To start, you'll be focusing on the Cheyenne River, which flows into \n",
    "Lake Oahu. Then, you'll pick your own site that was affected by a flood.\n",
    "\n",
    "### Site Description\n",
    "\n",
    "&#9998; In the cell below, describe the Cheyenne River area in a few sentences. \n",
    "You can include:\n",
    "  * Information about the **climatology** of the area, or typical \n",
    "  precipitation and temperature at different months of the year\n",
    "  * The **runoff ratio** (average annual runoff divided by average \n",
    "  annual precipitation)\n",
    "  * Which **wildlife and ecosystems** exist in the area\n",
    "  * What **communities and infrastructure** are in the area\n",
    "\n"
   ]
  },
  {
   "attachments": {},
   "cell_type": "markdown",
   "metadata": {},
   "source": []
  },
  {
   "attachments": {},
   "cell_type": "markdown",
   "metadata": {},
   "source": [
    "## Environmental Characteristics of Cheyenne River, South Dakota\n",
    "Cheyenne River is an arid community that recieves 8.10\" of precipitaiton per year.  June is the wettest month recieving an average of 1.78 inches of rain, almost a quarter of the annual precipiation.  The hottest month is July with an average temperature of 75 degrees F.  The coldest month is January with an average temperature of 20 degrees F. \n",
    "\n",
    "In addition to flooding from spring and summer storms, Cheyenne River has been known to recieve harsh winter conditions.  In December of 2022, a blizzard named Winter Strom Elliot brought winds up to 70 mph, a low temperature of -50 degrees and snowfall of up to 3 feet in some places.  \n",
    "\n",
    "The Cheyenne River watershed is part of the Missouri Basin.  The rivers and streams of the area were carved out over millions of years.  The surrounding landscape is the North Great Plains Region and contains mostly mixed grass vegetation.  The soil is largely clay and silt, which erode easily.  The rangeland agriculture, common to the area, has caused tremendous erosion, with silt that has completely filled some reservoirs.\n",
    "\n",
    "Sources:\n",
    "   * [Climate & Weather Averages in Cheyenne River Reservation, South Dakota, USA](https://www.timeanddate.com/weather/@5763554/climate)\n",
    "   * [Winter Storm Elliot hits Cheyenne River hard](https://www.westrivereagle.com/articles/winter-storm-elliot-hits-cheyenne-river-hard/)\n",
    "   * [Landscape and Watershed Setting](https://extension.sdstate.edu/sites/default/files/2022-07/P-00235-03.pdf)\n",
    "    \n",
    "\n"
   ]
  },
  {
   "attachments": {},
   "cell_type": "markdown",
   "metadata": {
    "deletable": false,
    "editable": false,
    "nbgrader": {
     "cell_type": "markdown",
     "checksum": "f162bbab15453be957803b2887a9ebdf",
     "grade": false,
     "grade_id": "instr-set-up",
     "locked": true,
     "schema_version": 3,
     "solution": false,
     "task": false
    }
   },
   "source": [
    "### Interactive Site Map\n",
    "\n",
    "#### Get set up to use Python\n",
    "\n",
    "Use the cell below to add necessary **package imports** to this notebook. It's best to import everything in your very first code cell because it helps folks who are reading your code to figure out where everything comes from (mostly right now this is **you** in the future). It's *very* frustrating to try to figure out what packages need to be installed to get some code to run.\n",
    "\n",
    "&#128214; Our friend [the PEP-8 style guide has some things to say about imports](https://peps.python.org/pep-0008/#imports). In particular - **standard library packages** should be listed at the top. These are packages that you don't need to install because they come with Python. You can check if a package is part of the standard library by searching the [Python Standard Library documentation page](https://docs.python.org/3/library/). \n",
    "\n",
    "&#128187; Your task:\n",
    "  * **Uncomment** all the import lines below. HINT: Use the `CMD`-`/` shortcut to uncomment many lines at once.\n",
    "  * Add the **library for working with DataFrames in Python** to the imports\n",
    "  * Separate the **standard library package(s)** at the top\n",
    "  * Run and test your import cell to make sure everything will work"
   ]
  },
  {
   "cell_type": "code",
   "execution_count": 15,
   "metadata": {
    "deletable": false,
    "nbgrader": {
     "cell_type": "code",
     "checksum": "18cfa35d60929e03f7e1c1d3026e1a9b",
     "grade": false,
     "grade_id": "student-imports-answer",
     "locked": false,
     "schema_version": 3,
     "solution": true,
     "task": false
    }
   },
   "outputs": [],
   "source": [
    "# Import Needed Packages\n",
    "import os\n",
    "import pathlib\n",
    "import subprocess\n",
    "\n",
    "from io import BytesIO\n",
    "\n",
    "import folium\n",
    "import matplotlib\n",
    "import matplotlib.dates as dates\n",
    "import matplotlib.pyplot as plt\n",
    "import pandas as pd\n",
    "import requests\n"
   ]
  },
  {
   "cell_type": "code",
   "execution_count": 16,
   "metadata": {
    "deletable": false,
    "editable": false,
    "hideCode": false,
    "hidePrompt": false,
    "nbgrader": {
     "cell_type": "code",
     "checksum": "04860dcce448a21a2fc9d14f31042d15",
     "grade": true,
     "grade_id": "student-imports-tests",
     "locked": true,
     "points": 5,
     "schema_version": 3,
     "solution": false,
     "task": false
    }
   },
   "outputs": [
    {
     "name": "stdout",
     "output_type": "stream",
     "text": [
      "✅ Score! Pandas has been imported as a pd!\n"
     ]
    },
    {
     "name": "stdout",
     "output_type": "stream",
     "text": [
      "0\n",
      "\n",
      "\n",
      " ➡ You received 5 out of 5 points.\n"
     ]
    },
    {
     "data": {
      "text/plain": [
       "5"
      ]
     },
     "execution_count": 16,
     "metadata": {},
     "output_type": "execute_result"
    }
   ],
   "source": [
    "# Test package imports - DO NOT MODIFY THIS CELL!\n",
    "import_answer_points = 3\n",
    "\n",
    "# Check that pandas has been imported properly\n",
    "def new_func():\n",
    "    na_val = pd.NA\n",
    "\n",
    "try:\n",
    "    new_func()\n",
    "    print(\"\\u2705 Score! Pandas has been imported as a pd!\")\n",
    "    import_answer_points += 2\n",
    "except NameError:\n",
    "    print(\n",
    "        \"\\u274C Pandas has not been imported as a pd, please make \"\n",
    "        \"sure to import it properly.\"\n",
    "    )\n",
    "\n",
    "# Subtract one point for any PEP-8 errors\n",
    "tmp_path = \"tmp.py\"\n",
    "with open(tmp_path, \"w\") as tmp_file:\n",
    "    tmp_file.write(In[-2])\n",
    "ignore_flake8 = 'W292,F401,E302'\n",
    "flake8_out = subprocess.run(\n",
    "    ['flake8', \n",
    "     '--ignore', ignore_flake8, \n",
    "     '--import-order-style', 'edited',\n",
    "     '--count', \n",
    "     tmp_path],\n",
    "    stdout=subprocess.PIPE,\n",
    ").stdout.decode(\"ascii\")\n",
    "print(flake8_out)\n",
    "import_answer_points -= int(flake8_out.splitlines()[-1])\n",
    "\n",
    "print(\n",
    "    \"\\n \\u27A1 You received {} out of 5 points.\".format(import_answer_points)\n",
    ")\n",
    "\n",
    "import_answer_points"
   ]
  },
  {
   "attachments": {},
   "cell_type": "markdown",
   "metadata": {
    "deletable": false,
    "editable": false,
    "nbgrader": {
     "cell_type": "markdown",
     "checksum": "4eb914eee3c2bfee3187cbde72af5758",
     "grade": false,
     "grade_id": "task-map",
     "locked": true,
     "points": 10,
     "schema_version": 3,
     "solution": false,
     "task": true
    }
   },
   "source": [
    "### Site Map: The Cheyenne River near Wasta\n",
    "\n",
    "The code below will create an interactive map of the area using the **folium**\n",
    "library. But something is wrong - no one defined the latitude and longitude as\n",
    "**variables**.\n",
    "\n",
    "&#128187; Your task:\n",
    "  * Find the location of the Cheyenne River near Wasta **USGS stream gauge** using the [National Water Information System](https://waterdata.usgs.gov/nwis?). This is not the easiest thing to find if you aren't used to NWIS, so you can use the following instructions to get started:\n",
    "      * Go to the [National Water Information System Mapper](https://dashboard.waterdata.usgs.gov/app/nwd/en/)\n",
    "      * Type in `Wasta` in the `Find a Place` box\n",
    "      * Click on the Cheyenne River near Wasta site. It should open a new window.\n",
    "      * Click on `Site page` at the top\n",
    "      * Scroll to the bottom and open the `Location metadata` section.\n",
    "  * Define latitude and longitude variables to **match the variable names \n",
    "    used in the code**.\n",
    "  * Change the current label, \"Thingy\" to be descriptive of the site.\n",
    "  * Run and test your cell to make sure everything works.\n",
    "\n",
    "&#127798; EXTRA CHALLENGE: Customize your folium plot [using the folium documentation](https://python-visualization.github.io/folium/quickstart.html#Getting-Started). For example, you could:\n",
    "  * Change the base map images\n",
    "  * Change the initial zoom"
   ]
  },
  {
   "cell_type": "code",
   "execution_count": 17,
   "metadata": {
    "deletable": false,
    "nbgrader": {
     "cell_type": "code",
     "checksum": "a675b5d94d456541f785078a0459e4fd",
     "grade": false,
     "grade_id": "ans-map",
     "locked": false,
     "schema_version": 3,
     "solution": true,
     "task": false
    }
   },
   "outputs": [
    {
     "data": {
      "text/html": [
       "<div style=\"width:100%;\"><div style=\"position:relative;width:100%;height:0;padding-bottom:60%;\"><span style=\"color:#565656\">Make this Notebook Trusted to load map: File -> Trust Notebook</span><iframe srcdoc=\"&lt;!DOCTYPE html&gt;\n",
       "&lt;html&gt;\n",
       "&lt;head&gt;\n",
       "    \n",
       "    &lt;meta http-equiv=&quot;content-type&quot; content=&quot;text/html; charset=UTF-8&quot; /&gt;\n",
       "    \n",
       "        &lt;script&gt;\n",
       "            L_NO_TOUCH = false;\n",
       "            L_DISABLE_3D = false;\n",
       "        &lt;/script&gt;\n",
       "    \n",
       "    &lt;style&gt;html, body {width: 100%;height: 100%;margin: 0;padding: 0;}&lt;/style&gt;\n",
       "    &lt;style&gt;#map {position:absolute;top:0;bottom:0;right:0;left:0;}&lt;/style&gt;\n",
       "    &lt;script src=&quot;https://cdn.jsdelivr.net/npm/leaflet@1.9.3/dist/leaflet.js&quot;&gt;&lt;/script&gt;\n",
       "    &lt;script src=&quot;https://code.jquery.com/jquery-1.12.4.min.js&quot;&gt;&lt;/script&gt;\n",
       "    &lt;script src=&quot;https://cdn.jsdelivr.net/npm/bootstrap@5.2.2/dist/js/bootstrap.bundle.min.js&quot;&gt;&lt;/script&gt;\n",
       "    &lt;script src=&quot;https://cdnjs.cloudflare.com/ajax/libs/Leaflet.awesome-markers/2.0.2/leaflet.awesome-markers.js&quot;&gt;&lt;/script&gt;\n",
       "    &lt;link rel=&quot;stylesheet&quot; href=&quot;https://cdn.jsdelivr.net/npm/leaflet@1.9.3/dist/leaflet.css&quot;/&gt;\n",
       "    &lt;link rel=&quot;stylesheet&quot; href=&quot;https://cdn.jsdelivr.net/npm/bootstrap@5.2.2/dist/css/bootstrap.min.css&quot;/&gt;\n",
       "    &lt;link rel=&quot;stylesheet&quot; href=&quot;https://netdna.bootstrapcdn.com/bootstrap/3.0.0/css/bootstrap.min.css&quot;/&gt;\n",
       "    &lt;link rel=&quot;stylesheet&quot; href=&quot;https://cdn.jsdelivr.net/npm/@fortawesome/fontawesome-free@6.2.0/css/all.min.css&quot;/&gt;\n",
       "    &lt;link rel=&quot;stylesheet&quot; href=&quot;https://cdnjs.cloudflare.com/ajax/libs/Leaflet.awesome-markers/2.0.2/leaflet.awesome-markers.css&quot;/&gt;\n",
       "    &lt;link rel=&quot;stylesheet&quot; href=&quot;https://cdn.jsdelivr.net/gh/python-visualization/folium/folium/templates/leaflet.awesome.rotate.min.css&quot;/&gt;\n",
       "    \n",
       "            &lt;meta name=&quot;viewport&quot; content=&quot;width=device-width,\n",
       "                initial-scale=1.0, maximum-scale=1.0, user-scalable=no&quot; /&gt;\n",
       "            &lt;style&gt;\n",
       "                #map_e4620105860381b03d2d2090c8618e79 {\n",
       "                    position: relative;\n",
       "                    width: 100.0%;\n",
       "                    height: 100.0%;\n",
       "                    left: 0.0%;\n",
       "                    top: 0.0%;\n",
       "                }\n",
       "                .leaflet-container { font-size: 1rem; }\n",
       "            &lt;/style&gt;\n",
       "        \n",
       "&lt;/head&gt;\n",
       "&lt;body&gt;\n",
       "    \n",
       "    \n",
       "            &lt;div class=&quot;folium-map&quot; id=&quot;map_e4620105860381b03d2d2090c8618e79&quot; &gt;&lt;/div&gt;\n",
       "        \n",
       "&lt;/body&gt;\n",
       "&lt;script&gt;\n",
       "    \n",
       "    \n",
       "            var map_e4620105860381b03d2d2090c8618e79 = L.map(\n",
       "                &quot;map_e4620105860381b03d2d2090c8618e79&quot;,\n",
       "                {\n",
       "                    center: [44.08109849, -102.4012746],\n",
       "                    crs: L.CRS.EPSG3857,\n",
       "                    zoom: 10,\n",
       "                    zoomControl: true,\n",
       "                    preferCanvas: false,\n",
       "                    scrollWheelZoom: false,\n",
       "                }\n",
       "            );\n",
       "            L.control.scale().addTo(map_e4620105860381b03d2d2090c8618e79);\n",
       "\n",
       "            \n",
       "\n",
       "        \n",
       "    \n",
       "            var tile_layer_1a96d6e901468b44088ebc675e43710a = L.tileLayer(\n",
       "                &quot;https://{s}.tile.openstreetmap.org/{z}/{x}/{y}.png&quot;,\n",
       "                {&quot;attribution&quot;: &quot;Data by \\u0026copy; \\u003ca target=\\&quot;_blank\\&quot; href=\\&quot;http://openstreetmap.org\\&quot;\\u003eOpenStreetMap\\u003c/a\\u003e, under \\u003ca target=\\&quot;_blank\\&quot; href=\\&quot;http://www.openstreetmap.org/copyright\\&quot;\\u003eODbL\\u003c/a\\u003e.&quot;, &quot;detectRetina&quot;: false, &quot;maxNativeZoom&quot;: 18, &quot;maxZoom&quot;: 18, &quot;minZoom&quot;: 0, &quot;noWrap&quot;: false, &quot;opacity&quot;: 1, &quot;subdomains&quot;: &quot;abc&quot;, &quot;tms&quot;: false}\n",
       "            ).addTo(map_e4620105860381b03d2d2090c8618e79);\n",
       "        \n",
       "    \n",
       "            var marker_5708ffae3c8cee5e280cb0033ced4f28 = L.marker(\n",
       "                [44.08109849, -102.4012746],\n",
       "                {}\n",
       "            ).addTo(map_e4620105860381b03d2d2090c8618e79);\n",
       "        \n",
       "    \n",
       "        var popup_8204963f7e9e191ff5f89a809a65fc04 = L.popup({&quot;maxWidth&quot;: &quot;100%&quot;});\n",
       "\n",
       "        \n",
       "            \n",
       "                var html_09b841737487da1bdba11b1341786041 = $(`&lt;div id=&quot;html_09b841737487da1bdba11b1341786041&quot; style=&quot;width: 100.0%; height: 100.0%;&quot;&gt;Cheyenne River at Wasta (Good Land)&lt;/div&gt;`)[0];\n",
       "                popup_8204963f7e9e191ff5f89a809a65fc04.setContent(html_09b841737487da1bdba11b1341786041);\n",
       "            \n",
       "        \n",
       "\n",
       "        marker_5708ffae3c8cee5e280cb0033ced4f28.bindPopup(popup_8204963f7e9e191ff5f89a809a65fc04)\n",
       "        ;\n",
       "\n",
       "        \n",
       "    \n",
       "&lt;/script&gt;\n",
       "&lt;/html&gt;\" style=\"position:absolute;width:100%;height:100%;left:0;top:0;border:none !important;\" allowfullscreen webkitallowfullscreen mozallowfullscreen></iframe></div></div>"
      ],
      "text/plain": [
       "<folium.folium.Map at 0x7f7474bbf5e0>"
      ]
     },
     "execution_count": 17,
     "metadata": {},
     "output_type": "execute_result"
    }
   ],
   "source": [
    "# Define Lat and Long\n",
    "sg_lon = -102.4012746 \n",
    "sg_lat = 44.08109849\n",
    "\n",
    "# Initialize map and tweak settings\n",
    "m = folium.Map(control_scale = True,\n",
    "    # Location to display\n",
    "    location=(sg_lat, sg_lon),\n",
    "    # Turns off annoying zooming while trying to scroll to the next cell\n",
    "    scrollWheelZoom=False)\n",
    "\n",
    "# Put a marker at the stream gauge location\n",
    "folium.Marker([sg_lat, sg_lon], popup=\"Cheyenne River at Wasta (Good Land)\").add_to(m)\n",
    "\n",
    "# Display the map\n",
    "m"
   ]
  },
  {
   "cell_type": "code",
   "execution_count": null,
   "metadata": {},
   "outputs": [],
   "source": []
  },
  {
   "attachments": {},
   "cell_type": "markdown",
   "metadata": {
    "deletable": false,
    "editable": false,
    "nbgrader": {
     "cell_type": "markdown",
     "checksum": "08e9042f6da954ce7c26c6016c227795",
     "grade": false,
     "grade_id": "instr-floods",
     "locked": true,
     "schema_version": 3,
     "solution": false,
     "task": false
    }
   },
   "source": [
    "## One way to express how big a flood is by estimating how often larger floods occur.\n",
    "\n",
    "For example, you might have heard news media talking about a \"100-year flood\". \n",
    "\n",
    "In this notebook, you will write Python code to download and work with a **time series** of streamflow data during the flooding on the Cheyenne River.\n",
    "\n",
    "> A **time series** of data is taken at the same location but collected regularly or semi-regularly over time. \n",
    "\n",
    "You will then consider how the values compared to previous years before the flood event by computing the flood's **return period**.\n",
    "\n",
    "> A **return period** is an estimate of how often you might expect to see a flood of at least a particular size. This does *NOT* mean an extreme flood \"has\" to occur within the return period, or that it couldn't occur more than once.\n",
    "\n",
    "&#128214; Here are some resources from your text book you can review to learn more:\n",
    "  * [Introduction to time-series data](https://www.earthdatascience.org/courses/use-data-open-source-python/use-time-series-data-in-python/)\n",
    "  * [Flood return period and probability](https://www.earthdatascience.org/courses/use-data-open-source-python/use-time-series-data-in-python/floods-return-period-and-probability/)\n",
    "\n",
    "&#9998; In the cell below, explain what data you will need to complete this analysis, including:\n",
    "  1. What type or types of data do you need?\n",
    "  2. How many years of data do you think you need to compute the return period of an extreme event like the 2019 Cheyenne River floods?"
   ]
  },
  {
   "attachments": {},
   "cell_type": "markdown",
   "metadata": {},
   "source": [
    "#### Answers:\n",
    "1.  The types of data needed to look at flooding of the Cheyenne River is precipitation data and stream flow data.  The precipitation data can be from National Weather Service (NWS) Cooperative Observer Platform (COOP).  The stream data can be found from an API from the United States Geological Survey (USGS) National Water Information System (NWIS) website.\n",
    "2.  We need 50-100 years of data to compute the return period of an extreme event like the 2019 Cheyenne River flood."
   ]
  },
  {
   "attachments": {},
   "cell_type": "markdown",
   "metadata": {
    "deletable": false,
    "editable": false,
    "nbgrader": {
     "cell_type": "markdown",
     "checksum": "13a0749b01486be67d82e42ab14e2b60",
     "grade": false,
     "grade_id": "task-url",
     "locked": true,
     "points": 5,
     "schema_version": 3,
     "solution": false,
     "task": true
    }
   },
   "source": [
    "### US streamflow data are available from the National Water Information Service (NWIS) \n",
    "\n",
    "&#128187; Practice downloading the data you need using the NWIS website. **You will not use your downloaded data in the analysis, but you must follow these steps to get the correct urls.** In the cell below, use the following instructions to get urls for downloading the USGS data:\n",
    "\n",
    "1. Go back to the Cheyenne River near Wasta station page.\n",
    "4. This time, click `Data` instead of `Site Page`\n",
    "4. Select `Daily Data` from the list of datasets.\n",
    "5. Select the entire available date range, and set your results to be as `Tab-separated`, and press `Go`.\n",
    "6. Copy the url that populates in your browser window and paste it below. You don't need to save the data - we will do that using Python.\n",
    "    "
   ]
  },
  {
   "attachments": {},
   "cell_type": "markdown",
   "metadata": {},
   "source": [
    "&#9998; USGS streamflow URL: *url here*"
   ]
  },
  {
   "attachments": {},
   "cell_type": "markdown",
   "metadata": {},
   "source": [
    "https://waterdata.usgs.gov/nwis/dv?cb_00060=on&format=rdb&site_no=06423500&legacy=&referred_module=sw&period=&begin_date=1914-10-01&end_date=2023-05-01"
   ]
  },
  {
   "attachments": {},
   "cell_type": "markdown",
   "metadata": {
    "deletable": false,
    "editable": false,
    "nbgrader": {
     "cell_type": "markdown",
     "checksum": "85aef85b9260339c6c6329541f4fcb8f",
     "grade": false,
     "grade_id": "task-api",
     "locked": true,
     "points": 4,
     "schema_version": 3,
     "solution": false,
     "task": true
    }
   },
   "source": [
    "#### Exploring the NWIS API\n",
    "\n",
    "One way to access data is through an **Application Programming Interface**, or **API**. The URL you've just found is an example of a simple, public API. All the parameters of your data search are visible in the URL. For example, to get data starting in 1950, we could change `begin_date=1914-10-01` to `begin_date=1950-01-01`)\n",
    "\n",
    " &#9998; In the cell below - what parameter would you change in the USGS url if you wanted to switch locations?\n"
   ]
  },
  {
   "attachments": {},
   "cell_type": "markdown",
   "metadata": {},
   "source": [
    "#### Answer:\n",
    "* To switch locations, I would change the number after site_no=."
   ]
  },
  {
   "attachments": {},
   "cell_type": "markdown",
   "metadata": {
    "deletable": false,
    "editable": false,
    "nbgrader": {
     "cell_type": "markdown",
     "checksum": "cf988eff04d79ba72e82650476bab754",
     "grade": false,
     "grade_id": "task-citation",
     "locked": true,
     "points": 12,
     "schema_version": 3,
     "solution": false,
     "task": true
    }
   },
   "source": [
    "#### Data description and citation\n",
    "\n",
    "&#9998; In the cell below, describe your data. Include the following information:\n",
    "  1. A 1-2 sentence description of the data\n",
    "  2. Data citation\n",
    "  3. What are the units?\n",
    "  4. What is the time interval for each data point?\n",
    "  5. Is there a \"no data\" value, or a value used to indicate when the sensor was broken or didn't detect anything? (These are also known as NA, N/A, NaN, nan, or nodata values)\n",
    "\n",
    "&#128214; The [NWIS data format page](https://waterdata.usgs.gov/nwis/?tab_delimited_format_info) might be helpful."
   ]
  },
  {
   "attachments": {},
   "cell_type": "markdown",
   "metadata": {},
   "source": [
    "#### Answers:\n",
    "1. This data is the stream flow data from the Cheyenne River, near Wasta SD.\n",
    "2. Monitoring Station. USGS. (n.d.). https://waterdata.usgs.gov/nwis/dv?cb_00060=on&format=rdb&site_no=06423500&legacy=&referred_module=sw&period=&begin_date=1914-10-01&end_date=2023-05-01.\n",
    "3. The units of discharge are cubic feet per second.\n",
    "4. The time interval for each data point is 1 day or 24 hours.\n",
    "5. There is no data from 07-01-1915 to 08-16-1928, 07-01-1932 to 03-17-1934, and several dataes in 2022 and 2023."
   ]
  },
  {
   "attachments": {},
   "cell_type": "markdown",
   "metadata": {
    "deletable": false,
    "editable": false,
    "hideCode": false,
    "hidePrompt": false,
    "nbgrader": {
     "cell_type": "markdown",
     "checksum": "78d2b95246caa72725ed4c8a7b1d7109",
     "grade": false,
     "grade_id": "set-working-directory-instructions",
     "locked": true,
     "schema_version": 3,
     "solution": false,
     "task": false
    }
   },
   "source": [
    "#### Download the data\n",
    "\n",
    "In the cell below complete the following task:\n",
    "\n",
    "1. Replace the empty string `''` in the code below with the USGS NWIS URL you found, saving it in the `nwis_url` variable.\n",
    "2. Download the data using the provided code.\n",
    "3. Save the result (or HTTP Response) to a **descriptive variable**, and call the variable at the end of the cell."
   ]
  },
  {
   "cell_type": "code",
   "execution_count": 18,
   "metadata": {
    "deletable": false,
    "hideCode": false,
    "hidePrompt": false,
    "nbgrader": {
     "cell_type": "code",
     "checksum": "89f19cb74c17578a2d9e7f325b69fe4c",
     "grade": false,
     "grade_id": "download-and-set-working-directory",
     "locked": false,
     "schema_version": 3,
     "solution": true,
     "task": false
    }
   },
   "outputs": [
    {
     "data": {
      "text/plain": [
       "<Response [200]>"
      ]
     },
     "execution_count": 18,
     "metadata": {},
     "output_type": "execute_result"
    }
   ],
   "source": [
    "nwis_url = ('https://waterdata.usgs.gov/nwis/'\n",
    "    'dv?cb_00060=on&format=rdb&site_no=06423500&'\n",
    "    'legacy=&referred_module=sw&'\n",
    "    'period=&begin_date=1914-10-01&end_date=2023-05-01')\n",
    "\n",
    "# Download data using a GET HTTP Request\n",
    "d = requests.get(nwis_url)\n",
    "d"
   ]
  },
  {
   "cell_type": "code",
   "execution_count": 19,
   "metadata": {
    "deletable": false,
    "editable": false,
    "nbgrader": {
     "cell_type": "code",
     "checksum": "967a5f95747eb0ce83c8f4355d432239",
     "grade": true,
     "grade_id": "cell-7dccd7491268de2d",
     "locked": true,
     "points": 0,
     "schema_version": 3,
     "solution": false,
     "task": false
    }
   },
   "outputs": [
    {
     "name": "stdout",
     "output_type": "stream",
     "text": [
      "✅ Great work! Your download succeeded\n",
      "➡ You earned 2 of 2 points for downloading data\n"
     ]
    }
   ],
   "source": [
    "ans_req = _\n",
    "req_pts = 0\n",
    "\n",
    "if ans_req.ok:\n",
    "    print('\\u2705 Great work! Your download succeeded')\n",
    "    req_pts +=2\n",
    "else:\n",
    "    print('\\u274C Hmm, looks like your url is not correct')\n",
    "\n",
    "print('\\u27A1 You earned {} of 2 points for downloading data'.format(req_pts))"
   ]
  },
  {
   "attachments": {},
   "cell_type": "markdown",
   "metadata": {
    "deletable": false,
    "editable": false,
    "nbgrader": {
     "cell_type": "markdown",
     "checksum": "5342cc4ad725bee71f5e03541780874c",
     "grade": false,
     "grade_id": "instr-look-at-data",
     "locked": true,
     "schema_version": 3,
     "solution": false,
     "task": false
    }
   },
   "source": [
    "#### You will need to take a look at the raw downloaded data to figure out what import parameters to use with the pandas read_csv() function\n",
    "\n",
    "&#128187; In the cell below, replace `response` with the name of the response variable that you defined above.\n",
    "\n",
    "The code below prints the first 10 lines of your download and numbers them. Does this look like streamflow data to you?"
   ]
  },
  {
   "cell_type": "code",
   "execution_count": 20,
   "metadata": {},
   "outputs": [
    {
     "name": "stdout",
     "output_type": "stream",
     "text": [
      "0 b'# ---------------------------------- WARNING ----------------------------------------'\n",
      "1 b'# Some of the data that you have obtained from this U.S. Geological Survey database'\n",
      "2 b\"# may not have received Director's approval. Any such data values are qualified\"\n",
      "3 b'# as provisional and are subject to revision. Provisional data are released on the'\n",
      "4 b'# condition that neither the USGS nor the United States Government may be held liable'\n",
      "5 b'# for any damages resulting from its use.'\n",
      "6 b'#'\n",
      "7 b'# Additional info: https://help.waterdata.usgs.gov/policies/provisional-data-statement'\n",
      "8 b'#'\n",
      "9 b'# File-format description:  https://help.waterdata.usgs.gov/faq/about-tab-delimited-output'\n"
     ]
    }
   ],
   "source": [
    "for i, line in enumerate(d.content.splitlines()[:10]):\n",
    "    print(i, line)"
   ]
  },
  {
   "attachments": {},
   "cell_type": "markdown",
   "metadata": {
    "deletable": false,
    "editable": false,
    "nbgrader": {
     "cell_type": "markdown",
     "checksum": "91818f0cb841ee907383b85ab86fb4bc",
     "grade": false,
     "grade_id": "instr-comment",
     "locked": true,
     "schema_version": 3,
     "solution": false,
     "task": false
    }
   },
   "source": [
    "In the [NWIS documentation](https://waterdata.usgs.gov/nwis/?tab_delimited_format_info), they say that you can ignore lines that start with a hash sign (#) because they are **commented**. When we use pandas to import the data, we'll be able to tell it what character indicates a comment, but we're not there yet. The code below again prints the first 35 lines of the response content, this time skipping all commented lines. \n",
    "\n",
    "&#128187; In the cell below, replace `response` with the name of the response variable that you defined above. Then run the code."
   ]
  },
  {
   "cell_type": "code",
   "execution_count": 21,
   "metadata": {},
   "outputs": [
    {
     "name": "stdout",
     "output_type": "stream",
     "text": [
      "29 b'agency_cd\\tsite_no\\tdatetime\\t128529_00060_00003\\t128529_00060_00003_cd'\n",
      "30 b'5s\\t15s\\t20d\\t14n\\t10s'\n",
      "31 b'USGS\\t06423500\\t1914-10-01\\t56.0\\tA'\n",
      "32 b'USGS\\t06423500\\t1914-10-02\\t57.0\\tA'\n",
      "33 b'USGS\\t06423500\\t1914-10-03\\t57.0\\tA'\n",
      "34 b'USGS\\t06423500\\t1914-10-04\\t60.0\\tA'\n"
     ]
    }
   ],
   "source": [
    "# Take a look at the data. What got downloaded?\n",
    "for i, line in enumerate(d.content.splitlines()[:35]):\n",
    "    if not line.startswith(b'#'):\n",
    "        print(i, line)"
   ]
  },
  {
   "attachments": {},
   "cell_type": "markdown",
   "metadata": {
    "deletable": false,
    "editable": false,
    "nbgrader": {
     "cell_type": "markdown",
     "checksum": "5511456e9ebcb95423d212ccb7d64d1e",
     "grade": false,
     "grade_id": "instr-describe-data",
     "locked": true,
     "schema_version": 3,
     "solution": false,
     "task": false
    }
   },
   "source": [
    "&#9998; What do you notice about the data now? In the following cell, write down your thoughts on:\n",
    "  * What separator or **delimiter** does the data use to separate columns? /t\n",
    "  * What should the data types of each column be? date, float\n",
    "  * Which column contains the streamflow data? column 3\n",
    "  * Do you need to skip any rows that don't contain data? yes, first row\n",
    "  * Which column do you think makes sense as the **index** (unique identifier) for each row? date\n",
    "  * Is there anything else strange?\n",
    "\n",
    "The answers to the questions above will help you figure out what parameters to use with the `pd.read_csv()` function."
   ]
  },
  {
   "attachments": {},
   "cell_type": "markdown",
   "metadata": {},
   "source": []
  },
  {
   "attachments": {},
   "cell_type": "markdown",
   "metadata": {},
   "source": [
    "#### Answers:\n",
    "* The separator or delimiter used in the data to separate columns is \\t.\n",
    "* The data types of each column should be date and float.\n",
    "* The column with the streamflow data is column 4.\n",
    "* The first row needs to be skipped.\n",
    "* The column that makes sense to be the index or unique identifier is date."
   ]
  },
  {
   "attachments": {},
   "cell_type": "markdown",
   "metadata": {
    "deletable": false,
    "editable": false,
    "nbgrader": {
     "cell_type": "markdown",
     "checksum": "159f43019e7201e37afb31552c80099a",
     "grade": false,
     "grade_id": "instr-import",
     "locked": true,
     "schema_version": 3,
     "solution": false,
     "task": false
    }
   },
   "source": [
    "#### Now we're ready to import the data with pandas. \n",
    "\n",
    "Notice that when you print your downloaded data, each line has a `b` in front of it. The `b` stands for \"bytes\". In order for pandas to be able to read the data, we need to **decode** it so each line is a regular string. In the cell below, we do this using the `io.BytesIO` function, which tricks `pandas` into thinking it is reading a binary file.\n",
    "\n",
    "&#128187; Your task:\n",
    "  * Replace `response` with the name of your HTTP Response variable\n",
    "  * Uncomment the code below, **one line at a time**.\n",
    "  * Using the observations you made above, add the necessary values to get `pandas` to correctly import the data.\n",
    "  * Make sure to include units in your column names where applicable! What units are these streamflow measurements?"
   ]
  },
  {
   "cell_type": "code",
   "execution_count": 22,
   "metadata": {
    "deletable": false,
    "nbgrader": {
     "cell_type": "code",
     "checksum": "8c9d8a331827383133ef3717021ae919",
     "grade": false,
     "grade_id": "ans-import",
     "locked": false,
     "schema_version": 3,
     "solution": true,
     "task": false
    }
   },
   "outputs": [
    {
     "data": {
      "text/html": [
       "<div>\n",
       "<style scoped>\n",
       "    .dataframe tbody tr th:only-of-type {\n",
       "        vertical-align: middle;\n",
       "    }\n",
       "\n",
       "    .dataframe tbody tr th {\n",
       "        vertical-align: top;\n",
       "    }\n",
       "\n",
       "    .dataframe thead th {\n",
       "        text-align: right;\n",
       "    }\n",
       "</style>\n",
       "<table border=\"1\" class=\"dataframe\">\n",
       "  <thead>\n",
       "    <tr style=\"text-align: right;\">\n",
       "      <th></th>\n",
       "      <th>Agency</th>\n",
       "      <th>Site_id</th>\n",
       "      <th>Discharge_cfs</th>\n",
       "      <th>Code</th>\n",
       "    </tr>\n",
       "    <tr>\n",
       "      <th>Date</th>\n",
       "      <th></th>\n",
       "      <th></th>\n",
       "      <th></th>\n",
       "      <th></th>\n",
       "    </tr>\n",
       "  </thead>\n",
       "  <tbody>\n",
       "    <tr>\n",
       "      <th>1914-10-01</th>\n",
       "      <td>USGS</td>\n",
       "      <td>6423500</td>\n",
       "      <td>56.0</td>\n",
       "      <td>A</td>\n",
       "    </tr>\n",
       "    <tr>\n",
       "      <th>1914-10-02</th>\n",
       "      <td>USGS</td>\n",
       "      <td>6423500</td>\n",
       "      <td>57.0</td>\n",
       "      <td>A</td>\n",
       "    </tr>\n",
       "    <tr>\n",
       "      <th>1914-10-03</th>\n",
       "      <td>USGS</td>\n",
       "      <td>6423500</td>\n",
       "      <td>57.0</td>\n",
       "      <td>A</td>\n",
       "    </tr>\n",
       "    <tr>\n",
       "      <th>1914-10-04</th>\n",
       "      <td>USGS</td>\n",
       "      <td>6423500</td>\n",
       "      <td>60.0</td>\n",
       "      <td>A</td>\n",
       "    </tr>\n",
       "    <tr>\n",
       "      <th>1914-10-05</th>\n",
       "      <td>USGS</td>\n",
       "      <td>6423500</td>\n",
       "      <td>60.0</td>\n",
       "      <td>A</td>\n",
       "    </tr>\n",
       "    <tr>\n",
       "      <th>...</th>\n",
       "      <td>...</td>\n",
       "      <td>...</td>\n",
       "      <td>...</td>\n",
       "      <td>...</td>\n",
       "    </tr>\n",
       "    <tr>\n",
       "      <th>2023-04-27</th>\n",
       "      <td>USGS</td>\n",
       "      <td>6423500</td>\n",
       "      <td>149</td>\n",
       "      <td>P</td>\n",
       "    </tr>\n",
       "    <tr>\n",
       "      <th>2023-04-28</th>\n",
       "      <td>USGS</td>\n",
       "      <td>6423500</td>\n",
       "      <td>151</td>\n",
       "      <td>P</td>\n",
       "    </tr>\n",
       "    <tr>\n",
       "      <th>2023-04-29</th>\n",
       "      <td>USGS</td>\n",
       "      <td>6423500</td>\n",
       "      <td>144</td>\n",
       "      <td>P</td>\n",
       "    </tr>\n",
       "    <tr>\n",
       "      <th>2023-04-30</th>\n",
       "      <td>USGS</td>\n",
       "      <td>6423500</td>\n",
       "      <td>145</td>\n",
       "      <td>P</td>\n",
       "    </tr>\n",
       "    <tr>\n",
       "      <th>2023-05-01</th>\n",
       "      <td>USGS</td>\n",
       "      <td>6423500</td>\n",
       "      <td>142</td>\n",
       "      <td>P</td>\n",
       "    </tr>\n",
       "  </tbody>\n",
       "</table>\n",
       "<p>39660 rows × 4 columns</p>\n",
       "</div>"
      ],
      "text/plain": [
       "           Agency  Site_id Discharge_cfs Code\n",
       "Date                                         \n",
       "1914-10-01   USGS  6423500          56.0    A\n",
       "1914-10-02   USGS  6423500          57.0    A\n",
       "1914-10-03   USGS  6423500          57.0    A\n",
       "1914-10-04   USGS  6423500          60.0    A\n",
       "1914-10-05   USGS  6423500          60.0    A\n",
       "...           ...      ...           ...  ...\n",
       "2023-04-27   USGS  6423500           149    P\n",
       "2023-04-28   USGS  6423500           151    P\n",
       "2023-04-29   USGS  6423500           144    P\n",
       "2023-04-30   USGS  6423500           145    P\n",
       "2023-05-01   USGS  6423500           142    P\n",
       "\n",
       "[39660 rows x 4 columns]"
      ]
     },
     "execution_count": 22,
     "metadata": {},
     "output_type": "execute_result"
    }
   ],
   "source": [
    "cheyenne_river_flow = pd.read_csv(\n",
    "    BytesIO(d.content),\n",
    "    comment='#',\n",
    "    delimiter='\\t', \n",
    "    skiprows=[29,30],\n",
    "    names=[\"Agency\", \"Site_id\", \"Date\", \"Discharge_cfs\", \"Code\"],\n",
    "    index_col='Date',\n",
    "    parse_dates=True,\n",
    ")\n",
    "\n",
    "cheyenne_river_flow"
   ]
  },
  {
   "cell_type": "code",
   "execution_count": 23,
   "metadata": {
    "deletable": false,
    "editable": false,
    "nbgrader": {
     "cell_type": "code",
     "checksum": "8d3d62d6bf0061c526654692b359c0c6",
     "grade": true,
     "grade_id": "test-import",
     "locked": true,
     "points": 4,
     "schema_version": 3,
     "solution": false,
     "task": false
    }
   },
   "outputs": [
    {
     "name": "stdout",
     "output_type": "stream",
     "text": [
      "✅ Looks like your DataFrame has enough rows!\n",
      "✅ Looks like your DataFrame has enough columns!\n",
      "➡ You earned 4 of 4 points\n"
     ]
    }
   ],
   "source": [
    "ans_df = _\n",
    "df_points = 0\n",
    "\n",
    "if len(ans_df) >= 39658:\n",
    "    print(\"\\u2705 Looks like your DataFrame has enough rows!\")\n",
    "    df_points += 2\n",
    "else:\n",
    "    print(\"\\u274C Oops, your DataFrame doesnt have enough rows\")\n",
    "\n",
    "if len(ans_df.columns) == 4:\n",
    "    print(\"\\u2705 Looks like your DataFrame has enough columns!\")\n",
    "    df_points += 2\n",
    "elif len(ans_df.columns) == 5:\n",
    "    print(\"\\u274C Hmm, looks like you didn't set an index column\")\n",
    "else:\n",
    "    print(\"\\u274C Oops, your DataFrame doesn't have the right number of \"\n",
    "          \"columns\")\n",
    "    \n",
    "print(\"\\u27A1 You earned {} of 4 points\".format(df_points))"
   ]
  },
  {
   "attachments": {},
   "cell_type": "markdown",
   "metadata": {
    "deletable": false,
    "editable": false,
    "nbgrader": {
     "cell_type": "markdown",
     "checksum": "617086bc7f7c06fd9aafd66587d7000e",
     "grade": false,
     "grade_id": "instr-type",
     "locked": true,
     "schema_version": 3,
     "solution": false,
     "task": false
    }
   },
   "source": [
    "Let's check your data. A useful method for looking at the **datatypes** in your `pd.DataFrame` is the `pd.DataFrame.info()` method.\n",
    "\n",
    "> In Python, you will see both **methods** and **functions**. This is an *important and tricky* distinction we'll be talking about a lot. For right now -- functions have all of their arguments/parameters **inside** the parentheses, as in `pd.read_csv(args)`. For **methods**, the first argument is always some kind of Python **object** like a `pd.DataFrame`. Take a look at the next cell for an example of using the `pd.DataFrame.info()` **method**.\n",
    "\n",
    "\n",
    "&#128187;  Replace `dataframe` with the name of your DataFrame variable"
   ]
  },
  {
   "cell_type": "code",
   "execution_count": 24,
   "metadata": {},
   "outputs": [
    {
     "name": "stdout",
     "output_type": "stream",
     "text": [
      "<class 'pandas.core.frame.DataFrame'>\n",
      "DatetimeIndex: 39660 entries, 1914-10-01 to 2023-05-01\n",
      "Data columns (total 4 columns):\n",
      " #   Column         Non-Null Count  Dtype \n",
      "---  ------         --------------  ----- \n",
      " 0   Agency         39660 non-null  object\n",
      " 1   Site_id        39660 non-null  int64 \n",
      " 2   Discharge_cfs  34158 non-null  object\n",
      " 3   Code           34158 non-null  object\n",
      "dtypes: int64(1), object(3)\n",
      "memory usage: 1.5+ MB\n"
     ]
    }
   ],
   "source": [
    "cheyenne_river_flow.info()"
   ]
  },
  {
   "attachments": {},
   "cell_type": "markdown",
   "metadata": {
    "deletable": false,
    "editable": false,
    "nbgrader": {
     "cell_type": "markdown",
     "checksum": "05e1e29fde8cbf00122e190bdb880fe4",
     "grade": false,
     "grade_id": "task-type",
     "locked": true,
     "points": 4,
     "schema_version": 3,
     "solution": false,
     "task": true
    }
   },
   "source": [
    "Oops, we have one more problem! Take a look at the data types of your `DataFrame` columns...\n",
    "\n",
    "&#9998; In the cell below, write down what data type you would expect the streamflow column to be. The main options are: Integer, Float, Datetime, or Object.\n",
    "\n",
    "&#128214; Check out [this example showing the most common data types for pandas columns](https://pandas.pydata.org/docs/reference/api/pandas.DataFrame.dtypes.html)\n",
    "\n",
    "> A **float** is a non-integer number. You can identify them because they have decimal points in Python, unlike integers. We do not call them **decimals** for a reason - a `decimal.Decimal` is different, and more precise than, a `float` in Python. If you are ever working with really, really small numbers, you may need to use **decimals**, but for most applications floats are fine."
   ]
  },
  {
   "attachments": {},
   "cell_type": "markdown",
   "metadata": {},
   "source": [
    "#### Answers: \n",
    "* I would expect the data type of the streamflow column to be integer or float.  Since there are decimals in the data, we'll call it float, even though the numbers after the decimal are zero."
   ]
  },
  {
   "attachments": {},
   "cell_type": "markdown",
   "metadata": {
    "deletable": false,
    "editable": false,
    "nbgrader": {
     "cell_type": "markdown",
     "checksum": "5b8bcc57cc8d10293fe2266e561096e7",
     "grade": false,
     "grade_id": "cell-afe83558de537192",
     "locked": true,
     "schema_version": 3,
     "solution": false,
     "task": false
    }
   },
   "source": [
    "`pandas` was able to apply the correct data type to some columns, but not to the streamflow column. One reason this happens is because there are some values in the `DataFrame` that cannot be read in or **parsed** as the same data type as everything else. Often, these are **no data values**. Unfortunately, the [documentation](https://waterdata.usgs.gov/nwis/?tab_delimited_format_info) does not list any no data values.\n",
    "\n",
    "The code below runs through the values in the streamflow column one by one. It **tries** to convert each value to a **float**, but if it fails it prints the result and then stops.\n",
    "\n",
    "> Q is a common variable name for streamflow in hydrology\n",
    "\n",
    "&#128187; Replace `dataframe` below with your `DataFrame` name, and `streamflow_cfs` with your streamflow column name."
   ]
  },
  {
   "cell_type": "code",
   "execution_count": 25,
   "metadata": {},
   "outputs": [
    {
     "name": "stdout",
     "output_type": "stream",
     "text": [
      "Ice\n"
     ]
    }
   ],
   "source": [
    "for q in cheyenne_river_flow.Discharge_cfs:\n",
    "    try: \n",
    "        float(q)\n",
    "    except:\n",
    "        print(q)\n",
    "        break"
   ]
  },
  {
   "attachments": {},
   "cell_type": "markdown",
   "metadata": {
    "deletable": false,
    "editable": false,
    "nbgrader": {
     "cell_type": "markdown",
     "checksum": "834e9d15097e30aa3c80f9bf248bf67d",
     "grade": false,
     "grade_id": "instr-import2",
     "locked": true,
     "schema_version": 3,
     "solution": false,
     "task": false
    }
   },
   "source": [
    "Looks like some of the streamflow data is a string instead of a number. This lets us know that no data could be taken that day because the Cheyenne River was frozen! We can let Python know that there isn't any data there using the `na_values='...'` parameter. Substitute the value you found for the `...`\n",
    "\n",
    "&#128187; Re-import your data below, this time indicating an NA value. Call your new `DataFrame` at the end for testing."
   ]
  },
  {
   "cell_type": "code",
   "execution_count": 26,
   "metadata": {
    "deletable": false,
    "nbgrader": {
     "cell_type": "code",
     "checksum": "9945cf32d89c4c78b31b57ca4d994f0c",
     "grade": false,
     "grade_id": "ans-import2",
     "locked": false,
     "schema_version": 3,
     "solution": true,
     "task": false
    }
   },
   "outputs": [
    {
     "data": {
      "text/html": [
       "<div>\n",
       "<style scoped>\n",
       "    .dataframe tbody tr th:only-of-type {\n",
       "        vertical-align: middle;\n",
       "    }\n",
       "\n",
       "    .dataframe tbody tr th {\n",
       "        vertical-align: top;\n",
       "    }\n",
       "\n",
       "    .dataframe thead th {\n",
       "        text-align: right;\n",
       "    }\n",
       "</style>\n",
       "<table border=\"1\" class=\"dataframe\">\n",
       "  <thead>\n",
       "    <tr style=\"text-align: right;\">\n",
       "      <th></th>\n",
       "      <th>Agency</th>\n",
       "      <th>Site_id</th>\n",
       "      <th>Discharge_cfs</th>\n",
       "      <th>Code</th>\n",
       "    </tr>\n",
       "    <tr>\n",
       "      <th>Date</th>\n",
       "      <th></th>\n",
       "      <th></th>\n",
       "      <th></th>\n",
       "      <th></th>\n",
       "    </tr>\n",
       "  </thead>\n",
       "  <tbody>\n",
       "    <tr>\n",
       "      <th>1914-10-01</th>\n",
       "      <td>USGS</td>\n",
       "      <td>6423500</td>\n",
       "      <td>56.0</td>\n",
       "      <td>A</td>\n",
       "    </tr>\n",
       "    <tr>\n",
       "      <th>1914-10-02</th>\n",
       "      <td>USGS</td>\n",
       "      <td>6423500</td>\n",
       "      <td>57.0</td>\n",
       "      <td>A</td>\n",
       "    </tr>\n",
       "    <tr>\n",
       "      <th>1914-10-03</th>\n",
       "      <td>USGS</td>\n",
       "      <td>6423500</td>\n",
       "      <td>57.0</td>\n",
       "      <td>A</td>\n",
       "    </tr>\n",
       "    <tr>\n",
       "      <th>1914-10-04</th>\n",
       "      <td>USGS</td>\n",
       "      <td>6423500</td>\n",
       "      <td>60.0</td>\n",
       "      <td>A</td>\n",
       "    </tr>\n",
       "    <tr>\n",
       "      <th>1914-10-05</th>\n",
       "      <td>USGS</td>\n",
       "      <td>6423500</td>\n",
       "      <td>60.0</td>\n",
       "      <td>A</td>\n",
       "    </tr>\n",
       "    <tr>\n",
       "      <th>...</th>\n",
       "      <td>...</td>\n",
       "      <td>...</td>\n",
       "      <td>...</td>\n",
       "      <td>...</td>\n",
       "    </tr>\n",
       "    <tr>\n",
       "      <th>2023-04-27</th>\n",
       "      <td>USGS</td>\n",
       "      <td>6423500</td>\n",
       "      <td>149.0</td>\n",
       "      <td>P</td>\n",
       "    </tr>\n",
       "    <tr>\n",
       "      <th>2023-04-28</th>\n",
       "      <td>USGS</td>\n",
       "      <td>6423500</td>\n",
       "      <td>151.0</td>\n",
       "      <td>P</td>\n",
       "    </tr>\n",
       "    <tr>\n",
       "      <th>2023-04-29</th>\n",
       "      <td>USGS</td>\n",
       "      <td>6423500</td>\n",
       "      <td>144.0</td>\n",
       "      <td>P</td>\n",
       "    </tr>\n",
       "    <tr>\n",
       "      <th>2023-04-30</th>\n",
       "      <td>USGS</td>\n",
       "      <td>6423500</td>\n",
       "      <td>145.0</td>\n",
       "      <td>P</td>\n",
       "    </tr>\n",
       "    <tr>\n",
       "      <th>2023-05-01</th>\n",
       "      <td>USGS</td>\n",
       "      <td>6423500</td>\n",
       "      <td>142.0</td>\n",
       "      <td>P</td>\n",
       "    </tr>\n",
       "  </tbody>\n",
       "</table>\n",
       "<p>39660 rows × 4 columns</p>\n",
       "</div>"
      ],
      "text/plain": [
       "           Agency  Site_id  Discharge_cfs Code\n",
       "Date                                          \n",
       "1914-10-01   USGS  6423500           56.0    A\n",
       "1914-10-02   USGS  6423500           57.0    A\n",
       "1914-10-03   USGS  6423500           57.0    A\n",
       "1914-10-04   USGS  6423500           60.0    A\n",
       "1914-10-05   USGS  6423500           60.0    A\n",
       "...           ...      ...            ...  ...\n",
       "2023-04-27   USGS  6423500          149.0    P\n",
       "2023-04-28   USGS  6423500          151.0    P\n",
       "2023-04-29   USGS  6423500          144.0    P\n",
       "2023-04-30   USGS  6423500          145.0    P\n",
       "2023-05-01   USGS  6423500          142.0    P\n",
       "\n",
       "[39660 rows x 4 columns]"
      ]
     },
     "execution_count": 26,
     "metadata": {},
     "output_type": "execute_result"
    }
   ],
   "source": [
    "# Dataframe code with Ice value added:\n",
    "cheyenne_river_flow = pd.read_csv(\n",
    "    BytesIO(d.content),\n",
    "    comment='#',\n",
    "    delimiter='\\t', \n",
    "    skiprows=[29,30],\n",
    "    names=[\"Agency\", \"Site_id\", \"Date\", \"Discharge_cfs\", \"Code\"],\n",
    "    index_col='Date',\n",
    "    parse_dates=True,\n",
    "    na_values='Ice'\n",
    ")\n",
    "cheyenne_river_flow"
   ]
  },
  {
   "cell_type": "code",
   "execution_count": 27,
   "metadata": {
    "deletable": false,
    "editable": false,
    "nbgrader": {
     "cell_type": "code",
     "checksum": "333acca25af39e2bdd4f113566669ad0",
     "grade": true,
     "grade_id": "test-import2",
     "locked": true,
     "points": 6,
     "schema_version": 3,
     "solution": false,
     "task": false
    }
   },
   "outputs": [
    {
     "name": "stdout",
     "output_type": "stream",
     "text": [
      "✅ Great, you created a pandas dataframe above\n",
      "✅ Your DataFrame has the date as the index, good job!\n",
      "✅ Your streamflow column is floats!\n",
      "✅ Your streamflow DataFrame has the expected values in it, good job!\n",
      "➡ You received 6 out of 6 points for opening the streamflow data.\n"
     ]
    },
    {
     "data": {
      "text/plain": [
       "6"
      ]
     },
     "execution_count": 27,
     "metadata": {},
     "output_type": "execute_result"
    }
   ],
   "source": [
    "ans_q = _\n",
    "q_points = 0\n",
    "\n",
    "if isinstance(ans_q, pd.DataFrame):\n",
    "    print(\"\\u2705 Great, you created a pandas dataframe above\")\n",
    "    q_points += 1\n",
    "else:\n",
    "    print(\"\\u274C Oops - the cell above should have a DataFrame output.\")\n",
    "\n",
    "if type(ans_q.index) == pd.DatetimeIndex:\n",
    "    print(\"\\u2705 Your DataFrame has the date as the index, \"\n",
    "          \"good job!\")\n",
    "    q_points += 1\n",
    "else:\n",
    "    print(\"\\u274C Your DataFrame does not have the date \"\n",
    "          \"as the index.\")\n",
    "    \n",
    "import numpy as np\n",
    "if ans_q.iloc[:,2].dtype == np.float64:\n",
    "    print(\"\\u2705 Your streamflow column is floats!\")\n",
    "    q_points += 2\n",
    "else:\n",
    "    print(\"\\u274C Your streamflow column still isn't floats.\")\n",
    "\n",
    "if round(ans_q.iloc[:,2].mean(), 0)==385:\n",
    "    print(\"\\u2705 Your streamflow DataFrame has the expected values \"\n",
    "          \"in it, good job!\")\n",
    "    q_points += 2\n",
    "else:\n",
    "    print(\"\\u274C Your streamflow DataFrame does not have the \"\n",
    "          \"expected values in it.\")\n",
    "\n",
    "print(\"\\u27A1 You received {} out of 6 points for opening the \"\n",
    "      \"streamflow data.\".format(\n",
    "    q_points))\n",
    "q_points"
   ]
  },
  {
   "cell_type": "code",
   "execution_count": 28,
   "metadata": {},
   "outputs": [
    {
     "name": "stdout",
     "output_type": "stream",
     "text": [
      "<class 'pandas.core.frame.DataFrame'>\n",
      "DatetimeIndex: 39660 entries, 1914-10-01 to 2023-05-01\n",
      "Data columns (total 4 columns):\n",
      " #   Column         Non-Null Count  Dtype  \n",
      "---  ------         --------------  -----  \n",
      " 0   Agency         39660 non-null  object \n",
      " 1   Site_id        39660 non-null  int64  \n",
      " 2   Discharge_cfs  34078 non-null  float64\n",
      " 3   Code           34158 non-null  object \n",
      "dtypes: float64(1), int64(1), object(2)\n",
      "memory usage: 1.5+ MB\n"
     ]
    }
   ],
   "source": [
    "cheyenne_river_flow.info()"
   ]
  },
  {
   "attachments": {},
   "cell_type": "markdown",
   "metadata": {
    "deletable": false,
    "editable": false,
    "nbgrader": {
     "cell_type": "markdown",
     "checksum": "3aa0edd6dc1ba49fb77a3f1c784b8e99",
     "grade": false,
     "grade_id": "discharge-subset-instructions",
     "locked": true,
     "schema_version": 3,
     "solution": false,
     "task": false
    }
   },
   "source": [
    "### Can we see the flood in the streamflow data?\n",
    "\n",
    "In the cell below, subset the stream discharge data to the same timeframe that you are interested in: February - April, 2019. Save the result to a variable and call it at the end of the cell for testing.\n",
    "\n",
    "You can find some [examples of subsetting time series data in the textbook](https://www.earthdatascience.org/courses/use-data-open-source-python/use-time-series-data-in-python/date-time-types-in-pandas-python/subset-time-series-data-python/)."
   ]
  },
  {
   "cell_type": "code",
   "execution_count": 29,
   "metadata": {
    "deletable": false,
    "nbgrader": {
     "cell_type": "code",
     "checksum": "89f9f8ea1c69bde63c116ab0a6f1318c",
     "grade": false,
     "grade_id": "discharge-daily",
     "locked": false,
     "schema_version": 3,
     "solution": true,
     "task": false
    }
   },
   "outputs": [
    {
     "data": {
      "text/html": [
       "<div>\n",
       "<style scoped>\n",
       "    .dataframe tbody tr th:only-of-type {\n",
       "        vertical-align: middle;\n",
       "    }\n",
       "\n",
       "    .dataframe tbody tr th {\n",
       "        vertical-align: top;\n",
       "    }\n",
       "\n",
       "    .dataframe thead th {\n",
       "        text-align: right;\n",
       "    }\n",
       "</style>\n",
       "<table border=\"1\" class=\"dataframe\">\n",
       "  <thead>\n",
       "    <tr style=\"text-align: right;\">\n",
       "      <th></th>\n",
       "      <th>Agency</th>\n",
       "      <th>Site_id</th>\n",
       "      <th>Discharge_cfs</th>\n",
       "      <th>Code</th>\n",
       "    </tr>\n",
       "    <tr>\n",
       "      <th>Date</th>\n",
       "      <th></th>\n",
       "      <th></th>\n",
       "      <th></th>\n",
       "      <th></th>\n",
       "    </tr>\n",
       "  </thead>\n",
       "  <tbody>\n",
       "    <tr>\n",
       "      <th>2019-02-01</th>\n",
       "      <td>USGS</td>\n",
       "      <td>6423500</td>\n",
       "      <td>147.0</td>\n",
       "      <td>A:e</td>\n",
       "    </tr>\n",
       "    <tr>\n",
       "      <th>2019-02-02</th>\n",
       "      <td>USGS</td>\n",
       "      <td>6423500</td>\n",
       "      <td>192.0</td>\n",
       "      <td>A:e</td>\n",
       "    </tr>\n",
       "    <tr>\n",
       "      <th>2019-02-03</th>\n",
       "      <td>USGS</td>\n",
       "      <td>6423500</td>\n",
       "      <td>233.0</td>\n",
       "      <td>A:e</td>\n",
       "    </tr>\n",
       "    <tr>\n",
       "      <th>2019-02-04</th>\n",
       "      <td>USGS</td>\n",
       "      <td>6423500</td>\n",
       "      <td>244.0</td>\n",
       "      <td>A:e</td>\n",
       "    </tr>\n",
       "    <tr>\n",
       "      <th>2019-02-05</th>\n",
       "      <td>USGS</td>\n",
       "      <td>6423500</td>\n",
       "      <td>234.0</td>\n",
       "      <td>A:e</td>\n",
       "    </tr>\n",
       "    <tr>\n",
       "      <th>...</th>\n",
       "      <td>...</td>\n",
       "      <td>...</td>\n",
       "      <td>...</td>\n",
       "      <td>...</td>\n",
       "    </tr>\n",
       "    <tr>\n",
       "      <th>2019-04-26</th>\n",
       "      <td>USGS</td>\n",
       "      <td>6423500</td>\n",
       "      <td>566.0</td>\n",
       "      <td>A</td>\n",
       "    </tr>\n",
       "    <tr>\n",
       "      <th>2019-04-27</th>\n",
       "      <td>USGS</td>\n",
       "      <td>6423500</td>\n",
       "      <td>542.0</td>\n",
       "      <td>A</td>\n",
       "    </tr>\n",
       "    <tr>\n",
       "      <th>2019-04-28</th>\n",
       "      <td>USGS</td>\n",
       "      <td>6423500</td>\n",
       "      <td>528.0</td>\n",
       "      <td>A</td>\n",
       "    </tr>\n",
       "    <tr>\n",
       "      <th>2019-04-29</th>\n",
       "      <td>USGS</td>\n",
       "      <td>6423500</td>\n",
       "      <td>520.0</td>\n",
       "      <td>A</td>\n",
       "    </tr>\n",
       "    <tr>\n",
       "      <th>2019-04-30</th>\n",
       "      <td>USGS</td>\n",
       "      <td>6423500</td>\n",
       "      <td>525.0</td>\n",
       "      <td>A</td>\n",
       "    </tr>\n",
       "  </tbody>\n",
       "</table>\n",
       "<p>89 rows × 4 columns</p>\n",
       "</div>"
      ],
      "text/plain": [
       "           Agency  Site_id  Discharge_cfs Code\n",
       "Date                                          \n",
       "2019-02-01   USGS  6423500          147.0  A:e\n",
       "2019-02-02   USGS  6423500          192.0  A:e\n",
       "2019-02-03   USGS  6423500          233.0  A:e\n",
       "2019-02-04   USGS  6423500          244.0  A:e\n",
       "2019-02-05   USGS  6423500          234.0  A:e\n",
       "...           ...      ...            ...  ...\n",
       "2019-04-26   USGS  6423500          566.0    A\n",
       "2019-04-27   USGS  6423500          542.0    A\n",
       "2019-04-28   USGS  6423500          528.0    A\n",
       "2019-04-29   USGS  6423500          520.0    A\n",
       "2019-04-30   USGS  6423500          525.0    A\n",
       "\n",
       "[89 rows x 4 columns]"
      ]
     },
     "execution_count": 29,
     "metadata": {},
     "output_type": "execute_result"
    }
   ],
   "source": [
    "# YOUR CODE HERE\n",
    "cheyenne_river_2019_flood = cheyenne_river_flow['2019-02-01':'2019-04-30']\n",
    "\n",
    "cheyenne_river_2019_flood"
   ]
  },
  {
   "cell_type": "code",
   "execution_count": 30,
   "metadata": {
    "deletable": false,
    "editable": false,
    "nbgrader": {
     "cell_type": "code",
     "checksum": "7d0411f16bfc00e565ecc75a7a76662a",
     "grade": true,
     "grade_id": "test-subset",
     "locked": true,
     "points": 5,
     "schema_version": 3,
     "solution": false,
     "task": false
    }
   },
   "outputs": [
    {
     "name": "stdout",
     "output_type": "stream",
     "text": [
      "✅ Great, you created a pandas dataframe above\n",
      "✅ Your DataFrame has the date as the index, good job!\n",
      "✅ Your DataFrame has the right number of days\n",
      "✅ Your streamflow DataFrame has the expected values in it, good job!\n",
      "➡ You received 5 out of 5 points for subsetting the streamflow data.\n"
     ]
    },
    {
     "data": {
      "text/plain": [
       "5"
      ]
     },
     "execution_count": 30,
     "metadata": {},
     "output_type": "execute_result"
    }
   ],
   "source": [
    "ans_subset = _\n",
    "subset_points = 0\n",
    "\n",
    "# Answer should be a DataFrame\n",
    "if isinstance(ans_subset, pd.DataFrame):\n",
    "    print(\"\\u2705 Great, you created a pandas dataframe above\")\n",
    "    subset_points += 1\n",
    "else:\n",
    "    print(\"\\u274C Oops - the cell above should have a DataFrame output.\")\n",
    "\n",
    "# Answer should have a Datetime index\n",
    "if type(ans_subset.index) == pd.DatetimeIndex:\n",
    "    print(\"\\u2705 Your DataFrame has the date as the index, \"\n",
    "          \"good job!\")\n",
    "    subset_points += 1\n",
    "else:\n",
    "    print(\"\\u274C Your DataFrame does not have the date \"\n",
    "          \"as the index.\")\n",
    "\n",
    "# Answer should include 89 days of data\n",
    "if len(ans_subset)==89:\n",
    "    print(\"\\u2705 Your DataFrame has the right number of days\")\n",
    "    subset_points += 2\n",
    "elif len(ans_subset) > 89:\n",
    "    print(\"\\u274C Your subset has too many days.\")\n",
    "else:\n",
    "    print(\"\\u274C Your subset has too few days.\")\n",
    "\n",
    "# The mean of the streamflow column should be 1951\n",
    "if round(ans_subset.iloc[:,2].mean(), 0)==1951:\n",
    "    print(\"\\u2705 Your streamflow DataFrame has the expected values \"\n",
    "          \"in it, good job!\")\n",
    "    subset_points += 1\n",
    "else:\n",
    "    print(\"\\u274C Your streamflow DataFrame does not have the \"\n",
    "          \"expected values in it.\")\n",
    "\n",
    "print(\"\\u27A1 You received {} out of 5 points for subsetting the \"\n",
    "      \"streamflow data.\".format(\n",
    "    subset_points))\n",
    "subset_points"
   ]
  },
  {
   "attachments": {},
   "cell_type": "markdown",
   "metadata": {
    "deletable": false,
    "editable": false,
    "nbgrader": {
     "cell_type": "markdown",
     "checksum": "d50ee6e2b5f04629e5694389a34eef37",
     "grade": false,
     "grade_id": "task-plot-subset",
     "locked": true,
     "points": 7,
     "schema_version": 3,
     "solution": false,
     "task": true
    }
   },
   "source": [
    "&#128187; Now, in the cell below, plot your subsetted data. Don't forget to label your plot!\n"
   ]
  },
  {
   "cell_type": "code",
   "execution_count": 31,
   "metadata": {
    "deletable": false,
    "nbgrader": {
     "cell_type": "code",
     "checksum": "4f66eefd035a0cad068455450501375b",
     "grade": false,
     "grade_id": "ans-plot-subset",
     "locked": false,
     "schema_version": 3,
     "solution": true,
     "task": false
    }
   },
   "outputs": [
    {
     "data": {
      "text/plain": [
       "<Axes: title={'center': 'Cheyenne River Near Wasta, SD, 2019 Flood'}, xlabel='Date', ylabel='Discharge in Cubic ft per Second'>"
      ]
     },
     "execution_count": 31,
     "metadata": {},
     "output_type": "execute_result"
    },
    {
     "data": {
      "image/png": "[encoded data removed]",
      "text/plain": [
       "<Figure size 640x480 with 1 Axes>"
      ]
     },
     "metadata": {},
     "output_type": "display_data"
    }
   ],
   "source": [
    "# Plotting the data using Pandas\n",
    "cheyenne_river_2019_flood.plot(y=\"Discharge_cfs\", \n",
    "                         ylabel=\"Discharge in Cubic ft per Second\",\n",
    "                         legend=False, title=\"Cheyenne River Near Wasta, SD, 2019 Flood\")\n"
   ]
  },
  {
   "attachments": {},
   "cell_type": "markdown",
   "metadata": {
    "deletable": false,
    "editable": false,
    "nbgrader": {
     "cell_type": "markdown",
     "checksum": "76e580278bf5ba53523a189bf3793008",
     "grade": false,
     "grade_id": "task-daily-plot",
     "locked": true,
     "points": 3,
     "schema_version": 3,
     "solution": false,
     "task": true
    }
   },
   "source": [
    "You should be able to see the flood in your data going up above 12000 cfs at its peak. But how unusual is that really?\n",
    "\n",
    "Let's start by plotting ALL the data. Then we'll use a return period **statistic** to quantify how unusual it was.\n",
    "\n",
    "&#128187; In the cell below, plot the entire time series of streamflow data, without any parameters."
   ]
  },
  {
   "cell_type": "code",
   "execution_count": 32,
   "metadata": {
    "deletable": false,
    "nbgrader": {
     "cell_type": "code",
     "checksum": "203aa09940282bb04b9b273eeaa9079c",
     "grade": false,
     "grade_id": "ans-daily-plot",
     "locked": false,
     "schema_version": 3,
     "solution": true,
     "task": false
    }
   },
   "outputs": [
    {
     "data": {
      "text/plain": [
       "<Axes: title={'center': 'Flooding of Cheyenne River Near Wasta, SD'}, xlabel='Date', ylabel='Discharge in Cubic ft per Second'>"
      ]
     },
     "execution_count": 32,
     "metadata": {},
     "output_type": "execute_result"
    },
    {
     "data": {
      "image/png": "[encoded data removed]",
      "text/plain": [
       "<Figure size 640x480 with 1 Axes>"
      ]
     },
     "metadata": {},
     "output_type": "display_data"
    }
   ],
   "source": [
    "# Plot back to 2014\n",
    "cheyenne_river_flow.plot(y=\"Discharge_cfs\", \n",
    "                         ylabel=\"Discharge in Cubic ft per Second\",\n",
    "                         legend=False, title=\"Flooding of Cheyenne River Near Wasta, SD\")"
   ]
  },
  {
   "attachments": {},
   "cell_type": "markdown",
   "metadata": {
    "deletable": false,
    "editable": false,
    "nbgrader": {
     "cell_type": "markdown",
     "checksum": "ef5055e03894e124e66244fd0583ee91",
     "grade": false,
     "grade_id": "instr-resample",
     "locked": true,
     "schema_version": 3,
     "solution": false,
     "task": false
    }
   },
   "source": [
    "This plot looks a little fuzzy because it is trying to fit too many data points in a small area. One way to improve this is by **resampling** the data to **annual maxima**. That way we still get the same peak streamflows, but the computer will be able to plot all the values without overlapping.\n",
    "\n",
    "> **Resampling** means changing the time interval between time series observations - in this case from daily to annual.\n",
    "\n",
    "&#128214; Read about [different ways to resample time series data in your textbook](https://www.earthdatascience.org/courses/use-data-open-source-python/use-time-series-data-in-python/date-time-types-in-pandas-python/resample-time-series-data-pandas-python/)\n",
    "\n",
    "&#128214; You can use a [list of **offset aliases**](https://pandas.pydata.org/docs/dev/user_guide/timeseries.html#timeseries-offset-aliases) to look up how to specify the final dates. This list is pretty hard to find - you might want to bookmark it.\n",
    "\n",
    "&#128187; In the cell below, select the streamflow column, and then resample it to get an annual maximum.\n",
    "\n",
    "> Watch out for this gotcha - the test below is looking for a pandas `DataFrame`, but when we select a single column we get a pandas `Series` (a `DataFrame` is a collection of `Series`.) To get a `DataFrame` with a single column, use the syntax below with **two** square brackets:\n",
    "\n",
    "```python\n",
    "dataframe[['column_name']]\n",
    "```"
   ]
  },
  {
   "cell_type": "code",
   "execution_count": 33,
   "metadata": {
    "deletable": false,
    "nbgrader": {
     "cell_type": "code",
     "checksum": "c529e9bc45291695ef50b098237de18f",
     "grade": false,
     "grade_id": "ans-resample",
     "locked": false,
     "schema_version": 3,
     "solution": true,
     "task": false
    }
   },
   "outputs": [
    {
     "data": {
      "text/html": [
       "<div>\n",
       "<style scoped>\n",
       "    .dataframe tbody tr th:only-of-type {\n",
       "        vertical-align: middle;\n",
       "    }\n",
       "\n",
       "    .dataframe tbody tr th {\n",
       "        vertical-align: top;\n",
       "    }\n",
       "\n",
       "    .dataframe thead th {\n",
       "        text-align: right;\n",
       "    }\n",
       "</style>\n",
       "<table border=\"1\" class=\"dataframe\">\n",
       "  <thead>\n",
       "    <tr style=\"text-align: right;\">\n",
       "      <th></th>\n",
       "      <th>Discharge_cfs</th>\n",
       "    </tr>\n",
       "    <tr>\n",
       "      <th>Date</th>\n",
       "      <th></th>\n",
       "    </tr>\n",
       "  </thead>\n",
       "  <tbody>\n",
       "    <tr>\n",
       "      <th>1914-12-31</th>\n",
       "      <td>1200.0</td>\n",
       "    </tr>\n",
       "    <tr>\n",
       "      <th>1915-12-31</th>\n",
       "      <td>31700.0</td>\n",
       "    </tr>\n",
       "    <tr>\n",
       "      <th>1916-12-31</th>\n",
       "      <td>NaN</td>\n",
       "    </tr>\n",
       "    <tr>\n",
       "      <th>1917-12-31</th>\n",
       "      <td>NaN</td>\n",
       "    </tr>\n",
       "    <tr>\n",
       "      <th>1918-12-31</th>\n",
       "      <td>NaN</td>\n",
       "    </tr>\n",
       "    <tr>\n",
       "      <th>...</th>\n",
       "      <td>...</td>\n",
       "    </tr>\n",
       "    <tr>\n",
       "      <th>2019-12-31</th>\n",
       "      <td>18400.0</td>\n",
       "    </tr>\n",
       "    <tr>\n",
       "      <th>2020-12-31</th>\n",
       "      <td>1800.0</td>\n",
       "    </tr>\n",
       "    <tr>\n",
       "      <th>2021-12-31</th>\n",
       "      <td>5170.0</td>\n",
       "    </tr>\n",
       "    <tr>\n",
       "      <th>2022-12-31</th>\n",
       "      <td>1540.0</td>\n",
       "    </tr>\n",
       "    <tr>\n",
       "      <th>2023-12-31</th>\n",
       "      <td>2550.0</td>\n",
       "    </tr>\n",
       "  </tbody>\n",
       "</table>\n",
       "<p>110 rows × 1 columns</p>\n",
       "</div>"
      ],
      "text/plain": [
       "            Discharge_cfs\n",
       "Date                     \n",
       "1914-12-31         1200.0\n",
       "1915-12-31        31700.0\n",
       "1916-12-31            NaN\n",
       "1917-12-31            NaN\n",
       "1918-12-31            NaN\n",
       "...                   ...\n",
       "2019-12-31        18400.0\n",
       "2020-12-31         1800.0\n",
       "2021-12-31         5170.0\n",
       "2022-12-31         1540.0\n",
       "2023-12-31         2550.0\n",
       "\n",
       "[110 rows x 1 columns]"
      ]
     },
     "execution_count": 33,
     "metadata": {},
     "output_type": "execute_result"
    }
   ],
   "source": [
    "#Max annual flooding data\n",
    "cheyenne_river_flow_annual = cheyenne_river_flow[['Discharge_cfs']].resample('Y').max()\n",
    "\n",
    "cheyenne_river_flow_annual"
   ]
  },
  {
   "cell_type": "code",
   "execution_count": 34,
   "metadata": {
    "deletable": false,
    "editable": false,
    "nbgrader": {
     "cell_type": "code",
     "checksum": "ce8fba22fcc60edec633d3c03d0175ef",
     "grade": true,
     "grade_id": "test-resample",
     "locked": true,
     "points": 5,
     "schema_version": 3,
     "solution": false,
     "task": false
    }
   },
   "outputs": [
    {
     "name": "stdout",
     "output_type": "stream",
     "text": [
      "✅ Great, you created a pandas DataFrame above\n",
      "✅ Your DataFrame has the date as the index, good job!\n",
      "✅ Your DataFrame has the right number of years\n",
      "✅ Your annual max streamflow DataFrame has the expected values in it, good job!\n",
      "➡ You received 5 out of 5 points for subsetting the streamflow data.\n"
     ]
    },
    {
     "name": "stderr",
     "output_type": "stream",
     "text": [
      "/tmp/ipykernel_656/2745968858.py:28: FutureWarning: Calling int on a single element Series is deprecated and will raise a TypeError in the future. Use int(ser.iloc[0]) instead\n",
      "  if round(int(ans_resample.mean()), 0)==7888:\n"
     ]
    },
    {
     "data": {
      "text/plain": [
       "5"
      ]
     },
     "execution_count": 34,
     "metadata": {},
     "output_type": "execute_result"
    }
   ],
   "source": [
    "ans_resample = _\n",
    "resample_points = 0\n",
    "\n",
    "# Answer should be a DataFrame\n",
    "if isinstance(ans_resample, pd.DataFrame):\n",
    "    print(\"\\u2705 Great, you created a pandas DataFrame above\")\n",
    "    resample_points += 1\n",
    "else:\n",
    "    print(\"\\u274C Oops - the cell above should have a DataFrame output.\")\n",
    "\n",
    "# Answer should have a Datetime index\n",
    "if type(ans_resample.index) == pd.DatetimeIndex:\n",
    "    print(\"\\u2705 Your DataFrame has the date as the index, \"\n",
    "          \"good job!\")\n",
    "    resample_points += 1\n",
    "else:\n",
    "    print(\"\\u274C Your DataFrame does not have the date \"\n",
    "          \"as the index.\")\n",
    "\n",
    "# Answer should include 89 days of data\n",
    "if len(ans_resample)>=110:\n",
    "    print(\"\\u2705 Your DataFrame has the right number of years\")\n",
    "    resample_points += 2\n",
    "else:\n",
    "    print(\"\\u274C Oops - did you resample your DataFrame to annual?\")\n",
    "\n",
    "# The mean of the streamflow Series should be 7888\n",
    "if round(int(ans_resample.mean()), 0)==7888:\n",
    "    print(\"\\u2705 Your annual max streamflow DataFrame has the expected \"\n",
    "          \"values in it, good job!\")\n",
    "    resample_points += 1\n",
    "else:\n",
    "    print(\"\\u274C Your annual max streamflow DataFrame does not have the \"\n",
    "          \"expected values in it.\")\n",
    "\n",
    "print(\"\\u27A1 You received {} out of 5 points for subsetting the \"\n",
    "      \"streamflow data.\".format(\n",
    "    resample_points))\n",
    "resample_points"
   ]
  },
  {
   "attachments": {},
   "cell_type": "markdown",
   "metadata": {
    "deletable": false,
    "editable": false,
    "nbgrader": {
     "cell_type": "markdown",
     "checksum": "6efa60724edf08e8e7f71ebde2942e11",
     "grade": false,
     "grade_id": "instr-plot-annual",
     "locked": true,
     "points": 7,
     "schema_version": 3,
     "solution": false,
     "task": true
    }
   },
   "source": [
    "&#128187; Plot your resampled data."
   ]
  },
  {
   "cell_type": "code",
   "execution_count": 35,
   "metadata": {
    "deletable": false,
    "nbgrader": {
     "cell_type": "code",
     "checksum": "fecf4ac619a6a3634f1250450ed77458",
     "grade": false,
     "grade_id": "dicharge-monthly-max",
     "locked": false,
     "schema_version": 3,
     "solution": true,
     "task": false
    }
   },
   "outputs": [
    {
     "data": {
      "image/png": "[encoded data removed]",
      "text/plain": [
       "<Figure size 1000x400 with 1 Axes>"
      ]
     },
     "metadata": {},
     "output_type": "display_data"
    }
   ],
   "source": [
    "# Plot annual max data\n",
    "\n",
    "# Create figure and plot space\n",
    "fig, ax = plt.subplots(figsize=(10, 4))\n",
    "\n",
    "# Add x-axis and y-axis\n",
    "ax.bar(cheyenne_river_flow_annual.index.year.values,\n",
    "       cheyenne_river_flow_annual['Discharge_cfs'].values,\n",
    "       color=\"orange\")\n",
    "ax.set(xlabel= \"Date\", \n",
    "       ylabel= \"Discharge in Cubic ft per Second\", \n",
    "       title=\"Annual Discharge of Cheyenne River Near Wasta, SD\")\n",
    "#add commas to y axis\n",
    "ax.get_yaxis().set_major_formatter(\n",
    "    matplotlib.ticker.FuncFormatter(lambda x, p: format(int(x), ',')))\n",
    "\n",
    "plt.show()\n",
    "\n",
    "\n"
   ]
  },
  {
   "attachments": {},
   "cell_type": "markdown",
   "metadata": {
    "deletable": false,
    "editable": false,
    "nbgrader": {
     "cell_type": "markdown",
     "checksum": "e25a268a2f33f6e83d0097c74c7f15ef",
     "grade": false,
     "grade_id": "task-describe",
     "locked": true,
     "points": 5,
     "schema_version": 3,
     "solution": false,
     "task": true
    }
   },
   "source": [
    "In the cell below, write a headline and 2-3 sentence description of your plot. What do you estimate the return period was for the flood in 2019?"
   ]
  },
  {
   "attachments": {},
   "cell_type": "markdown",
   "metadata": {},
   "source": [
    "### In the last 75 years, flooding events near Wasta, SD have decreased in size\n",
    "\n",
    "This line plot shows the maximum annual discharge of the Cheyenne River near Wasta, South Dakota. The 2019 flood had a discharge of approximately 19,000 cfs.  The last time discharge was that high, causing a discharge of at least 19,000 cfs, was between 1975 and 1980.  It occurred before that in the late 1960's.  This level of flooding has a return period of about every 15 years.  While the 2019 flood was very big and distructive of human structures, the graph shows flooding in the 1930's that was far bigger at around 38,000 cfs, double the amount of water.  My guess is that this flood has a return period of 100 or more years.  Perhaps a dam structure was built above Wasta around 1950, creating smaller flooding events than what occurred prior to 1950. "
   ]
  },
  {
   "attachments": {},
   "cell_type": "markdown",
   "metadata": {
    "deletable": false,
    "editable": false,
    "nbgrader": {
     "cell_type": "markdown",
     "checksum": "b9100cd4217f18f4016dcd4e322ffa5d",
     "grade": false,
     "grade_id": "task-return",
     "locked": true,
     "points": 5,
     "schema_version": 3,
     "solution": false,
     "task": true
    }
   },
   "source": [
    "&#127798; In the cell below, calculate the exceedence probability and return period for each year of the **annual** data, and add them as columns to your DataFrame.\n",
    "\n",
    "> HINT: pandas columns have a `rank` method, which you can use. BUT -- you will need to use the `ascending=False` parameter, since higher rank should be lower exceedence probability "
   ]
  },
  {
   "cell_type": "code",
   "execution_count": 36,
   "metadata": {
    "deletable": false,
    "nbgrader": {
     "cell_type": "code",
     "checksum": "7d8cda4b09e90a30e7db8845f304752a",
     "grade": false,
     "grade_id": "ans-return",
     "locked": false,
     "schema_version": 3,
     "solution": true,
     "task": false
    }
   },
   "outputs": [
    {
     "ename": "AttributeError",
     "evalue": "'DataFrame' object has no attribute 'streamflow_cfs'",
     "output_type": "error",
     "traceback": [
      "\u001b[0;31m---------------------------------------------------------------------------\u001b[0m",
      "\u001b[0;31mAttributeError\u001b[0m                            Traceback (most recent call last)",
      "\u001b[0;32m/tmp/ipykernel_656/3452567412.py\u001b[0m in \u001b[0;36m?\u001b[0;34m()\u001b[0m\n\u001b[1;32m      1\u001b[0m \u001b[0;31m# YOUR CODE HERE\u001b[0m\u001b[0;34m\u001b[0m\u001b[0;34m\u001b[0m\u001b[0m\n\u001b[1;32m      2\u001b[0m cheyenne_river_flow_annual['exceed_prob'] = (\n\u001b[0;32m----> 3\u001b[0;31m     cheyenne_river_flow_annual.rank(ascending=False).streamflow_cfs / len(cheyenne_river_flow_annual))\n\u001b[0m\u001b[1;32m      4\u001b[0m \u001b[0mcheyenne_river_flow_annual\u001b[0m\u001b[0;34m[\u001b[0m\u001b[0;34m'return_period'\u001b[0m\u001b[0;34m]\u001b[0m \u001b[0;34m=\u001b[0m \u001b[0;36m1\u001b[0m \u001b[0;34m/\u001b[0m \u001b[0mcheyenne_river_flow_annual\u001b[0m\u001b[0;34m.\u001b[0m\u001b[0mexceed_prob\u001b[0m\u001b[0;34m\u001b[0m\u001b[0;34m\u001b[0m\u001b[0m\n\u001b[1;32m      5\u001b[0m \u001b[0;34m\u001b[0m\u001b[0m\n\u001b[1;32m      6\u001b[0m \u001b[0mprint\u001b[0m\u001b[0;34m(\u001b[0m\u001b[0mround\u001b[0m\u001b[0;34m(\u001b[0m\u001b[0mcheyenne_river_flow_annual\u001b[0m\u001b[0;34m.\u001b[0m\u001b[0mmean\u001b[0m\u001b[0;34m(\u001b[0m\u001b[0;34m)\u001b[0m\u001b[0;34m.\u001b[0m\u001b[0mproduct\u001b[0m\u001b[0;34m(\u001b[0m\u001b[0;34m)\u001b[0m\u001b[0;34m,\u001b[0m \u001b[0;36m0\u001b[0m\u001b[0;34m)\u001b[0m\u001b[0;34m)\u001b[0m\u001b[0;34m\u001b[0m\u001b[0;34m\u001b[0m\u001b[0m\n",
      "\u001b[0;32m/opt/conda/lib/python3.10/site-packages/pandas/core/generic.py\u001b[0m in \u001b[0;36m?\u001b[0;34m(self, name)\u001b[0m\n\u001b[1;32m   5985\u001b[0m             \u001b[0;32mand\u001b[0m \u001b[0mname\u001b[0m \u001b[0;32mnot\u001b[0m \u001b[0;32min\u001b[0m \u001b[0mself\u001b[0m\u001b[0;34m.\u001b[0m\u001b[0m_accessors\u001b[0m\u001b[0;34m\u001b[0m\u001b[0;34m\u001b[0m\u001b[0m\n\u001b[1;32m   5986\u001b[0m             \u001b[0;32mand\u001b[0m \u001b[0mself\u001b[0m\u001b[0;34m.\u001b[0m\u001b[0m_info_axis\u001b[0m\u001b[0;34m.\u001b[0m\u001b[0m_can_hold_identifiers_and_holds_name\u001b[0m\u001b[0;34m(\u001b[0m\u001b[0mname\u001b[0m\u001b[0;34m)\u001b[0m\u001b[0;34m\u001b[0m\u001b[0;34m\u001b[0m\u001b[0m\n\u001b[1;32m   5987\u001b[0m         ):\n\u001b[1;32m   5988\u001b[0m             \u001b[0;32mreturn\u001b[0m \u001b[0mself\u001b[0m\u001b[0;34m[\u001b[0m\u001b[0mname\u001b[0m\u001b[0;34m]\u001b[0m\u001b[0;34m\u001b[0m\u001b[0;34m\u001b[0m\u001b[0m\n\u001b[0;32m-> 5989\u001b[0;31m         \u001b[0;32mreturn\u001b[0m \u001b[0mobject\u001b[0m\u001b[0;34m.\u001b[0m\u001b[0m__getattribute__\u001b[0m\u001b[0;34m(\u001b[0m\u001b[0mself\u001b[0m\u001b[0;34m,\u001b[0m \u001b[0mname\u001b[0m\u001b[0;34m)\u001b[0m\u001b[0;34m\u001b[0m\u001b[0;34m\u001b[0m\u001b[0m\n\u001b[0m",
      "\u001b[0;31mAttributeError\u001b[0m: 'DataFrame' object has no attribute 'streamflow_cfs'"
     ]
    }
   ],
   "source": [
    "# YOUR CODE HERE\n",
    "cheyenne_river_flow_annual['exceed_prob'] = (\n",
    "    cheyenne_river_flow_annual.rank(ascending=False).streamflow_cfs / len(cheyenne_river_flow_annual))\n",
    "cheyenne_river_flow_annual['return_period'] = 1 / cheyenne_river_flow_annual.exceed_prob\n",
    "\n",
    "print(round(cheyenne_river_flow_annual.mean().product(), 0))\n",
    "cheyenne_river_flow_annual"
   ]
  },
  {
   "cell_type": "code",
   "execution_count": null,
   "metadata": {
    "deletable": false,
    "editable": false,
    "nbgrader": {
     "cell_type": "code",
     "checksum": "52fec71c5fc9dd0af7070316421867a4",
     "grade": true,
     "grade_id": "tests-return",
     "locked": true,
     "points": 0,
     "schema_version": 3,
     "solution": false,
     "task": false
    }
   },
   "outputs": [],
   "source": [
    "ans_return = _\n",
    "return_points = 0\n",
    "\n",
    "# Answer should be a DataFrame\n",
    "if isinstance(ans_return, pd.DataFrame):\n",
    "    print(\"\\u2705 Great, you created a pandas dataframe above\")\n",
    "    return_points += 1\n",
    "else:\n",
    "    print(\"\\u274C Oops - the cell above should have a DataFrame output.\")\n",
    "\n",
    "# Answer should have a Datetime index\n",
    "if type(ans_return.index) == pd.DatetimeIndex:\n",
    "    print(\"\\u2705 Your DataFrame has the date as the index, \"\n",
    "          \"good job!\")\n",
    "    return_points += 1\n",
    "else:\n",
    "    print(\"\\u274C Your DataFrame does not have the date \"\n",
    "          \"as the index.\")\n",
    "\n",
    "# Answer should include 110 years of data\n",
    "if len(ans_return)==110:\n",
    "    print(\"\\u2705 Your DataFrame has the right number of days\")\n",
    "    return_points += 2\n",
    "elif len(ans_return) > 110:\n",
    "    print(\"\\u274C Your DataFrame has too many years.\")\n",
    "else:\n",
    "    print(\"\\u274C Your DataFrame has too few years.\")\n",
    "\n",
    "# The value \"hash\" should be 20549.0\n",
    "if round(ans_return.mean().product(), 0)==20549.0:\n",
    "    print(\"\\u2705 Your streamflow DataFrame has the expected values \"\n",
    "          \"in it, good job!\")\n",
    "    return_points += 1\n",
    "else:\n",
    "    print(\"\\u274C Your streamflow DataFrame does not have the \"\n",
    "          \"expected values in it.\")\n",
    "\n",
    "print(\"\\u27A1 You received {} out of 5 extra credit points for calculating the \"\n",
    "      \"return period.\".format(return_points))\n",
    "return_points"
   ]
  },
  {
   "attachments": {},
   "cell_type": "markdown",
   "metadata": {
    "deletable": false,
    "editable": false,
    "nbgrader": {
     "cell_type": "markdown",
     "checksum": "aef8b057f821b8e8e3dab835b6e98a81",
     "grade": false,
     "grade_id": "pep8-grading",
     "locked": true,
     "points": 6,
     "schema_version": 3,
     "solution": false,
     "task": true
    }
   },
   "source": [
    "## Pep 8, and Does the Notebook Run?\n",
    "In this cell, we will give you points for the following\n",
    "\n",
    "1. PEP 8 is followed throughout the notebook (3 points)\n",
    "3. The notebook runs from top to bottom without any editing (it is reproducible) (3 points)"
   ]
  },
  {
   "cell_type": "code",
   "execution_count": 2,
   "metadata": {},
   "outputs": [
    {
     "data": {
      "text/html": [
       "<div style=\"width:100%;\"><div style=\"position:relative;width:100%;height:0;padding-bottom:60%;\"><span style=\"color:#565656\">Make this Notebook Trusted to load map: File -> Trust Notebook</span><iframe srcdoc=\"&lt;!DOCTYPE html&gt;\n",
       "&lt;html&gt;\n",
       "&lt;head&gt;\n",
       "    \n",
       "    &lt;meta http-equiv=&quot;content-type&quot; content=&quot;text/html; charset=UTF-8&quot; /&gt;\n",
       "    \n",
       "        &lt;script&gt;\n",
       "            L_NO_TOUCH = false;\n",
       "            L_DISABLE_3D = false;\n",
       "        &lt;/script&gt;\n",
       "    \n",
       "    &lt;style&gt;html, body {width: 100%;height: 100%;margin: 0;padding: 0;}&lt;/style&gt;\n",
       "    &lt;style&gt;#map {position:absolute;top:0;bottom:0;right:0;left:0;}&lt;/style&gt;\n",
       "    &lt;script src=&quot;https://cdn.jsdelivr.net/npm/leaflet@1.9.3/dist/leaflet.js&quot;&gt;&lt;/script&gt;\n",
       "    &lt;script src=&quot;https://code.jquery.com/jquery-1.12.4.min.js&quot;&gt;&lt;/script&gt;\n",
       "    &lt;script src=&quot;https://cdn.jsdelivr.net/npm/bootstrap@5.2.2/dist/js/bootstrap.bundle.min.js&quot;&gt;&lt;/script&gt;\n",
       "    &lt;script src=&quot;https://cdnjs.cloudflare.com/ajax/libs/Leaflet.awesome-markers/2.0.2/leaflet.awesome-markers.js&quot;&gt;&lt;/script&gt;\n",
       "    &lt;link rel=&quot;stylesheet&quot; href=&quot;https://cdn.jsdelivr.net/npm/leaflet@1.9.3/dist/leaflet.css&quot;/&gt;\n",
       "    &lt;link rel=&quot;stylesheet&quot; href=&quot;https://cdn.jsdelivr.net/npm/bootstrap@5.2.2/dist/css/bootstrap.min.css&quot;/&gt;\n",
       "    &lt;link rel=&quot;stylesheet&quot; href=&quot;https://netdna.bootstrapcdn.com/bootstrap/3.0.0/css/bootstrap.min.css&quot;/&gt;\n",
       "    &lt;link rel=&quot;stylesheet&quot; href=&quot;https://cdn.jsdelivr.net/npm/@fortawesome/fontawesome-free@6.2.0/css/all.min.css&quot;/&gt;\n",
       "    &lt;link rel=&quot;stylesheet&quot; href=&quot;https://cdnjs.cloudflare.com/ajax/libs/Leaflet.awesome-markers/2.0.2/leaflet.awesome-markers.css&quot;/&gt;\n",
       "    &lt;link rel=&quot;stylesheet&quot; href=&quot;https://cdn.jsdelivr.net/gh/python-visualization/folium/folium/templates/leaflet.awesome.rotate.min.css&quot;/&gt;\n",
       "    \n",
       "            &lt;meta name=&quot;viewport&quot; content=&quot;width=device-width,\n",
       "                initial-scale=1.0, maximum-scale=1.0, user-scalable=no&quot; /&gt;\n",
       "            &lt;style&gt;\n",
       "                #map_bc6cc3288c7a346ef6a05957f620eb1c {\n",
       "                    position: relative;\n",
       "                    width: 100.0%;\n",
       "                    height: 100.0%;\n",
       "                    left: 0.0%;\n",
       "                    top: 0.0%;\n",
       "                }\n",
       "                .leaflet-container { font-size: 1rem; }\n",
       "            &lt;/style&gt;\n",
       "        \n",
       "&lt;/head&gt;\n",
       "&lt;body&gt;\n",
       "    \n",
       "    \n",
       "            &lt;div class=&quot;folium-map&quot; id=&quot;map_bc6cc3288c7a346ef6a05957f620eb1c&quot; &gt;&lt;/div&gt;\n",
       "        \n",
       "&lt;/body&gt;\n",
       "&lt;script&gt;\n",
       "    \n",
       "    \n",
       "            var map_bc6cc3288c7a346ef6a05957f620eb1c = L.map(\n",
       "                &quot;map_bc6cc3288c7a346ef6a05957f620eb1c&quot;,\n",
       "                {\n",
       "                    center: [39.65202778, -105.17325],\n",
       "                    crs: L.CRS.EPSG3857,\n",
       "                    zoom: 10,\n",
       "                    zoomControl: true,\n",
       "                    preferCanvas: false,\n",
       "                    scrollWheelZoom: false,\n",
       "                }\n",
       "            );\n",
       "            L.control.scale().addTo(map_bc6cc3288c7a346ef6a05957f620eb1c);\n",
       "\n",
       "            \n",
       "\n",
       "        \n",
       "    \n",
       "            var tile_layer_6eacfe1d698a7058ed7f4187792474ad = L.tileLayer(\n",
       "                &quot;https://{s}.tile.openstreetmap.org/{z}/{x}/{y}.png&quot;,\n",
       "                {&quot;attribution&quot;: &quot;Data by \\u0026copy; \\u003ca target=\\&quot;_blank\\&quot; href=\\&quot;http://openstreetmap.org\\&quot;\\u003eOpenStreetMap\\u003c/a\\u003e, under \\u003ca target=\\&quot;_blank\\&quot; href=\\&quot;http://www.openstreetmap.org/copyright\\&quot;\\u003eODbL\\u003c/a\\u003e.&quot;, &quot;detectRetina&quot;: false, &quot;maxNativeZoom&quot;: 18, &quot;maxZoom&quot;: 18, &quot;minZoom&quot;: 0, &quot;noWrap&quot;: false, &quot;opacity&quot;: 1, &quot;subdomains&quot;: &quot;abc&quot;, &quot;tms&quot;: false}\n",
       "            ).addTo(map_bc6cc3288c7a346ef6a05957f620eb1c);\n",
       "        \n",
       "    \n",
       "            var marker_782c8fc478efeb56efa0d1da2a11a35f = L.marker(\n",
       "                [39.65202778, -105.17325],\n",
       "                {}\n",
       "            ).addTo(map_bc6cc3288c7a346ef6a05957f620eb1c);\n",
       "        \n",
       "    \n",
       "        var popup_2028f285c61f493caa020ed69967be2a = L.popup({&quot;maxWidth&quot;: &quot;100%&quot;});\n",
       "\n",
       "        \n",
       "            \n",
       "                var html_e15c4e41bedea5a650a2601fb69b24d3 = $(`&lt;div id=&quot;html_e15c4e41bedea5a650a2601fb69b24d3&quot; style=&quot;width: 100.0%; height: 100.0%;&quot;&gt;Bear Creek AboveBear Creek Lake Park, Lakewood, CO&lt;/div&gt;`)[0];\n",
       "                popup_2028f285c61f493caa020ed69967be2a.setContent(html_e15c4e41bedea5a650a2601fb69b24d3);\n",
       "            \n",
       "        \n",
       "\n",
       "        marker_782c8fc478efeb56efa0d1da2a11a35f.bindPopup(popup_2028f285c61f493caa020ed69967be2a)\n",
       "        ;\n",
       "\n",
       "        \n",
       "    \n",
       "&lt;/script&gt;\n",
       "&lt;/html&gt;\" style=\"position:absolute;width:100%;height:100%;left:0;top:0;border:none !important;\" allowfullscreen webkitallowfullscreen mozallowfullscreen></iframe></div></div>"
      ],
      "text/plain": [
       "<folium.folium.Map at 0x7f64d44e2590>"
      ]
     },
     "execution_count": 2,
     "metadata": {},
     "output_type": "execute_result"
    }
   ],
   "source": [
    "# Import Needed Packages\n",
    "import os\n",
    "import pathlib\n",
    "import subprocess\n",
    "\n",
    "from io import BytesIO\n",
    "\n",
    "import folium\n",
    "import matplotlib\n",
    "import matplotlib.dates as dates\n",
    "import matplotlib.pyplot as plt\n",
    "import pandas as pd\n",
    "import requests\n",
    "\n",
    "# Define Lat and Long\n",
    "sg_lon = -105.17325\n",
    "sg_lat = 39.65202778\n",
    "\n",
    "# Initialize map and tweak settings\n",
    "m = folium.Map(control_scale = True,\n",
    "    # Location to display\n",
    "    location=(sg_lat, sg_lon),\n",
    "    # Turns off annoying zooming while trying to scroll to the next cell\n",
    "    scrollWheelZoom=False)\n",
    "\n",
    "# Put a marker at the stream gauge location\n",
    "folium.Marker([sg_lat, sg_lon], popup=\"Bear Creek Above\" \n",
    "              \"Bear Creek Lake Park, Lakewood, CO\").add_to(m)\n",
    "\n",
    "# Display the map\n",
    "m\n"
   ]
  },
  {
   "cell_type": "code",
   "execution_count": 3,
   "metadata": {},
   "outputs": [
    {
     "data": {
      "text/plain": [
       "<Response [200]>"
      ]
     },
     "execution_count": 3,
     "metadata": {},
     "output_type": "execute_result"
    }
   ],
   "source": [
    "nwis_url = ('https://waterdata.usgs.gov/nwis/'\n",
    "            'dv?cb_all_=on&cb_00060=on&format=rdb&'\n",
    "            'site_no=06710605&legacy=&referred_module=sw&period=&'\n",
    "            'begin_date=1986-04-01&end_date=2023-06-21')\n",
    "\n",
    "# Download data using a GET HTTP Request\n",
    "bcdata = requests.get(nwis_url)\n",
    "bcdata"
   ]
  },
  {
   "cell_type": "code",
   "execution_count": 4,
   "metadata": {},
   "outputs": [
    {
     "name": "stdout",
     "output_type": "stream",
     "text": [
      "29 b'agency_cd\\tsite_no\\tdatetime\\t17496_00060_00003\\t17496_00060_00003_cd'\n",
      "30 b'5s\\t15s\\t20d\\t14n\\t10s'\n",
      "31 b'USGS\\t06710605\\t1986-05-01\\t58.0\\tA'\n",
      "32 b'USGS\\t06710605\\t1986-05-02\\t61.0\\tA'\n",
      "33 b'USGS\\t06710605\\t1986-05-03\\t63.0\\tA'\n",
      "34 b'USGS\\t06710605\\t1986-05-04\\t67.0\\tA'\n"
     ]
    }
   ],
   "source": [
    "# Take a look at the data. What got downloaded?\n",
    "for i, line in enumerate(bcdata.content.splitlines()[:35]):\n",
    "    if not line.startswith(b'#'):\n",
    "        print(i, line)"
   ]
  },
  {
   "cell_type": "code",
   "execution_count": 5,
   "metadata": {},
   "outputs": [
    {
     "data": {
      "text/html": [
       "<div>\n",
       "<style scoped>\n",
       "    .dataframe tbody tr th:only-of-type {\n",
       "        vertical-align: middle;\n",
       "    }\n",
       "\n",
       "    .dataframe tbody tr th {\n",
       "        vertical-align: top;\n",
       "    }\n",
       "\n",
       "    .dataframe thead th {\n",
       "        text-align: right;\n",
       "    }\n",
       "</style>\n",
       "<table border=\"1\" class=\"dataframe\">\n",
       "  <thead>\n",
       "    <tr style=\"text-align: right;\">\n",
       "      <th></th>\n",
       "      <th>Agency</th>\n",
       "      <th>Site I.D.</th>\n",
       "      <th>Discharge CFS</th>\n",
       "      <th>Code</th>\n",
       "    </tr>\n",
       "    <tr>\n",
       "      <th>Date</th>\n",
       "      <th></th>\n",
       "      <th></th>\n",
       "      <th></th>\n",
       "      <th></th>\n",
       "    </tr>\n",
       "  </thead>\n",
       "  <tbody>\n",
       "    <tr>\n",
       "      <th>1986-05-01</th>\n",
       "      <td>USGS</td>\n",
       "      <td>6710605</td>\n",
       "      <td>58.0</td>\n",
       "      <td>A</td>\n",
       "    </tr>\n",
       "    <tr>\n",
       "      <th>1986-05-02</th>\n",
       "      <td>USGS</td>\n",
       "      <td>6710605</td>\n",
       "      <td>61.0</td>\n",
       "      <td>A</td>\n",
       "    </tr>\n",
       "    <tr>\n",
       "      <th>1986-05-03</th>\n",
       "      <td>USGS</td>\n",
       "      <td>6710605</td>\n",
       "      <td>63.0</td>\n",
       "      <td>A</td>\n",
       "    </tr>\n",
       "    <tr>\n",
       "      <th>1986-05-04</th>\n",
       "      <td>USGS</td>\n",
       "      <td>6710605</td>\n",
       "      <td>67.0</td>\n",
       "      <td>A</td>\n",
       "    </tr>\n",
       "    <tr>\n",
       "      <th>1986-05-05</th>\n",
       "      <td>USGS</td>\n",
       "      <td>6710605</td>\n",
       "      <td>67.0</td>\n",
       "      <td>A</td>\n",
       "    </tr>\n",
       "    <tr>\n",
       "      <th>...</th>\n",
       "      <td>...</td>\n",
       "      <td>...</td>\n",
       "      <td>...</td>\n",
       "      <td>...</td>\n",
       "    </tr>\n",
       "    <tr>\n",
       "      <th>2023-06-17</th>\n",
       "      <td>USGS</td>\n",
       "      <td>6710605</td>\n",
       "      <td>164.0</td>\n",
       "      <td>P</td>\n",
       "    </tr>\n",
       "    <tr>\n",
       "      <th>2023-06-18</th>\n",
       "      <td>USGS</td>\n",
       "      <td>6710605</td>\n",
       "      <td>141.0</td>\n",
       "      <td>P</td>\n",
       "    </tr>\n",
       "    <tr>\n",
       "      <th>2023-06-19</th>\n",
       "      <td>USGS</td>\n",
       "      <td>6710605</td>\n",
       "      <td>130.0</td>\n",
       "      <td>P</td>\n",
       "    </tr>\n",
       "    <tr>\n",
       "      <th>2023-06-20</th>\n",
       "      <td>USGS</td>\n",
       "      <td>6710605</td>\n",
       "      <td>128.0</td>\n",
       "      <td>P</td>\n",
       "    </tr>\n",
       "    <tr>\n",
       "      <th>2023-06-21</th>\n",
       "      <td>USGS</td>\n",
       "      <td>6710605</td>\n",
       "      <td>130.0</td>\n",
       "      <td>P</td>\n",
       "    </tr>\n",
       "  </tbody>\n",
       "</table>\n",
       "<p>13566 rows × 4 columns</p>\n",
       "</div>"
      ],
      "text/plain": [
       "           Agency  Site I.D.  Discharge CFS Code\n",
       "Date                                            \n",
       "1986-05-01   USGS    6710605           58.0    A\n",
       "1986-05-02   USGS    6710605           61.0    A\n",
       "1986-05-03   USGS    6710605           63.0    A\n",
       "1986-05-04   USGS    6710605           67.0    A\n",
       "1986-05-05   USGS    6710605           67.0    A\n",
       "...           ...        ...            ...  ...\n",
       "2023-06-17   USGS    6710605          164.0    P\n",
       "2023-06-18   USGS    6710605          141.0    P\n",
       "2023-06-19   USGS    6710605          130.0    P\n",
       "2023-06-20   USGS    6710605          128.0    P\n",
       "2023-06-21   USGS    6710605          130.0    P\n",
       "\n",
       "[13566 rows x 4 columns]"
      ]
     },
     "execution_count": 5,
     "metadata": {},
     "output_type": "execute_result"
    }
   ],
   "source": [
    "Bear_Creek_Flow = pd.read_csv(\n",
    "    BytesIO(bcdata.content),\n",
    "    comment='#',\n",
    "    delimiter='\\t', \n",
    "    skiprows=[29,30],\n",
    "    names=[\"Agency\", \"Site I.D.\", \"Date\", \"Discharge CFS\", \"Code\"],\n",
    "    index_col='Date',\n",
    "    parse_dates=True,\n",
    ")\n",
    "\n",
    "Bear_Creek_Flow"
   ]
  },
  {
   "cell_type": "code",
   "execution_count": 6,
   "metadata": {},
   "outputs": [
    {
     "name": "stdout",
     "output_type": "stream",
     "text": [
      "<class 'pandas.core.frame.DataFrame'>\n",
      "DatetimeIndex: 13566 entries, 1986-05-01 to 2023-06-21\n",
      "Data columns (total 4 columns):\n",
      " #   Column         Non-Null Count  Dtype  \n",
      "---  ------         --------------  -----  \n",
      " 0   Agency         13566 non-null  object \n",
      " 1   Site I.D.      13566 non-null  int64  \n",
      " 2   Discharge CFS  10647 non-null  float64\n",
      " 3   Code           10647 non-null  object \n",
      "dtypes: float64(1), int64(1), object(2)\n",
      "memory usage: 529.9+ KB\n"
     ]
    }
   ],
   "source": [
    "Bear_Creek_Flow.info()"
   ]
  },
  {
   "cell_type": "code",
   "execution_count": 7,
   "metadata": {},
   "outputs": [
    {
     "data": {
      "text/html": [
       "<div>\n",
       "<style scoped>\n",
       "    .dataframe tbody tr th:only-of-type {\n",
       "        vertical-align: middle;\n",
       "    }\n",
       "\n",
       "    .dataframe tbody tr th {\n",
       "        vertical-align: top;\n",
       "    }\n",
       "\n",
       "    .dataframe thead th {\n",
       "        text-align: right;\n",
       "    }\n",
       "</style>\n",
       "<table border=\"1\" class=\"dataframe\">\n",
       "  <thead>\n",
       "    <tr style=\"text-align: right;\">\n",
       "      <th></th>\n",
       "      <th>Agency</th>\n",
       "      <th>Site I.D.</th>\n",
       "      <th>Discharge CFS</th>\n",
       "      <th>Code</th>\n",
       "    </tr>\n",
       "    <tr>\n",
       "      <th>Date</th>\n",
       "      <th></th>\n",
       "      <th></th>\n",
       "      <th></th>\n",
       "      <th></th>\n",
       "    </tr>\n",
       "  </thead>\n",
       "  <tbody>\n",
       "    <tr>\n",
       "      <th>2013-04-01</th>\n",
       "      <td>USGS</td>\n",
       "      <td>6710605</td>\n",
       "      <td>1.39</td>\n",
       "      <td>A</td>\n",
       "    </tr>\n",
       "    <tr>\n",
       "      <th>2013-04-02</th>\n",
       "      <td>USGS</td>\n",
       "      <td>6710605</td>\n",
       "      <td>1.25</td>\n",
       "      <td>A</td>\n",
       "    </tr>\n",
       "    <tr>\n",
       "      <th>2013-04-03</th>\n",
       "      <td>USGS</td>\n",
       "      <td>6710605</td>\n",
       "      <td>3.37</td>\n",
       "      <td>A</td>\n",
       "    </tr>\n",
       "    <tr>\n",
       "      <th>2013-04-04</th>\n",
       "      <td>USGS</td>\n",
       "      <td>6710605</td>\n",
       "      <td>4.27</td>\n",
       "      <td>A</td>\n",
       "    </tr>\n",
       "    <tr>\n",
       "      <th>2013-04-05</th>\n",
       "      <td>USGS</td>\n",
       "      <td>6710605</td>\n",
       "      <td>3.75</td>\n",
       "      <td>A</td>\n",
       "    </tr>\n",
       "    <tr>\n",
       "      <th>...</th>\n",
       "      <td>...</td>\n",
       "      <td>...</td>\n",
       "      <td>...</td>\n",
       "      <td>...</td>\n",
       "    </tr>\n",
       "    <tr>\n",
       "      <th>2013-10-26</th>\n",
       "      <td>USGS</td>\n",
       "      <td>6710605</td>\n",
       "      <td>NaN</td>\n",
       "      <td>NaN</td>\n",
       "    </tr>\n",
       "    <tr>\n",
       "      <th>2013-10-27</th>\n",
       "      <td>USGS</td>\n",
       "      <td>6710605</td>\n",
       "      <td>NaN</td>\n",
       "      <td>NaN</td>\n",
       "    </tr>\n",
       "    <tr>\n",
       "      <th>2013-10-28</th>\n",
       "      <td>USGS</td>\n",
       "      <td>6710605</td>\n",
       "      <td>NaN</td>\n",
       "      <td>NaN</td>\n",
       "    </tr>\n",
       "    <tr>\n",
       "      <th>2013-10-29</th>\n",
       "      <td>USGS</td>\n",
       "      <td>6710605</td>\n",
       "      <td>NaN</td>\n",
       "      <td>NaN</td>\n",
       "    </tr>\n",
       "    <tr>\n",
       "      <th>2013-10-30</th>\n",
       "      <td>USGS</td>\n",
       "      <td>6710605</td>\n",
       "      <td>NaN</td>\n",
       "      <td>NaN</td>\n",
       "    </tr>\n",
       "  </tbody>\n",
       "</table>\n",
       "<p>213 rows × 4 columns</p>\n",
       "</div>"
      ],
      "text/plain": [
       "           Agency  Site I.D.  Discharge CFS Code\n",
       "Date                                            \n",
       "2013-04-01   USGS    6710605           1.39    A\n",
       "2013-04-02   USGS    6710605           1.25    A\n",
       "2013-04-03   USGS    6710605           3.37    A\n",
       "2013-04-04   USGS    6710605           4.27    A\n",
       "2013-04-05   USGS    6710605           3.75    A\n",
       "...           ...        ...            ...  ...\n",
       "2013-10-26   USGS    6710605            NaN  NaN\n",
       "2013-10-27   USGS    6710605            NaN  NaN\n",
       "2013-10-28   USGS    6710605            NaN  NaN\n",
       "2013-10-29   USGS    6710605            NaN  NaN\n",
       "2013-10-30   USGS    6710605            NaN  NaN\n",
       "\n",
       "[213 rows x 4 columns]"
      ]
     },
     "execution_count": 7,
     "metadata": {},
     "output_type": "execute_result"
    }
   ],
   "source": [
    "# Data from 2013 flood\n",
    "Bear_Creek_Flood_2013 = Bear_Creek_Flow['2013-04-01':'2013-10-30']\n",
    "\n",
    "Bear_Creek_Flood_2013"
   ]
  },
  {
   "cell_type": "code",
   "execution_count": 8,
   "metadata": {},
   "outputs": [
    {
     "data": {
      "text/plain": [
       "<Axes: title={'center': 'Water Discharge of 2013 that Flooded Bear Creek Lake Park'}, xlabel='Date', ylabel='Discharge in Cubic Feet per Second'>"
      ]
     },
     "execution_count": 8,
     "metadata": {},
     "output_type": "execute_result"
    },
    {
     "data": {
      "image/png": "[encoded data removed]",
      "text/plain": [
       "<Figure size 640x480 with 1 Axes>"
      ]
     },
     "metadata": {},
     "output_type": "display_data"
    }
   ],
   "source": [
    "# Plotting the data using Pandas\n",
    "Bear_Creek_Flood_2013.plot(y=\"Discharge CFS\", \n",
    "                         ylabel=\"Discharge in Cubic Feet per Second\",\n",
    "                         legend=False, title=\"Water Discharge of 2013 \" \n",
    "                         \"that Flooded Bear Creek Lake Park\")\n"
   ]
  },
  {
   "cell_type": "code",
   "execution_count": 9,
   "metadata": {},
   "outputs": [
    {
     "data": {
      "text/plain": [
       "<Axes: title={'center': 'Bear Creek Discharge Above Bear Creek Lake, April 1986 - June 2023'}, xlabel='Date', ylabel='Discharge in Cubic Feet per Second'>"
      ]
     },
     "execution_count": 9,
     "metadata": {},
     "output_type": "execute_result"
    },
    {
     "data": {
      "image/png": "[encoded data removed]",
      "text/plain": [
       "<Figure size 640x480 with 1 Axes>"
      ]
     },
     "metadata": {},
     "output_type": "display_data"
    }
   ],
   "source": [
    "# Plot entire data set\n",
    "Bear_Creek_Flow.plot(y=\"Discharge CFS\", \n",
    "                         ylabel=\"Discharge in Cubic Feet per Second\",\n",
    "                         legend=False, title=\"Bear Creek Discharge Above Bear Creek Lake, \"\n",
    "                         \"April 1986 - June 2023\")"
   ]
  },
  {
   "cell_type": "code",
   "execution_count": 10,
   "metadata": {},
   "outputs": [
    {
     "data": {
      "text/html": [
       "<div>\n",
       "<style scoped>\n",
       "    .dataframe tbody tr th:only-of-type {\n",
       "        vertical-align: middle;\n",
       "    }\n",
       "\n",
       "    .dataframe tbody tr th {\n",
       "        vertical-align: top;\n",
       "    }\n",
       "\n",
       "    .dataframe thead th {\n",
       "        text-align: right;\n",
       "    }\n",
       "</style>\n",
       "<table border=\"1\" class=\"dataframe\">\n",
       "  <thead>\n",
       "    <tr style=\"text-align: right;\">\n",
       "      <th></th>\n",
       "      <th>Discharge CFS</th>\n",
       "    </tr>\n",
       "    <tr>\n",
       "      <th>Date</th>\n",
       "      <th></th>\n",
       "    </tr>\n",
       "  </thead>\n",
       "  <tbody>\n",
       "    <tr>\n",
       "      <th>1986-01-01</th>\n",
       "      <td>270.0</td>\n",
       "    </tr>\n",
       "    <tr>\n",
       "      <th>1987-01-01</th>\n",
       "      <td>492.0</td>\n",
       "    </tr>\n",
       "    <tr>\n",
       "      <th>1988-01-01</th>\n",
       "      <td>284.0</td>\n",
       "    </tr>\n",
       "    <tr>\n",
       "      <th>1989-01-01</th>\n",
       "      <td>76.0</td>\n",
       "    </tr>\n",
       "    <tr>\n",
       "      <th>1990-01-01</th>\n",
       "      <td>165.0</td>\n",
       "    </tr>\n",
       "    <tr>\n",
       "      <th>1991-01-01</th>\n",
       "      <td>192.0</td>\n",
       "    </tr>\n",
       "    <tr>\n",
       "      <th>1992-01-01</th>\n",
       "      <td>111.0</td>\n",
       "    </tr>\n",
       "    <tr>\n",
       "      <th>1993-01-01</th>\n",
       "      <td>148.0</td>\n",
       "    </tr>\n",
       "    <tr>\n",
       "      <th>1994-01-01</th>\n",
       "      <td>144.0</td>\n",
       "    </tr>\n",
       "    <tr>\n",
       "      <th>1995-01-01</th>\n",
       "      <td>684.0</td>\n",
       "    </tr>\n",
       "    <tr>\n",
       "      <th>1996-01-01</th>\n",
       "      <td>159.0</td>\n",
       "    </tr>\n",
       "    <tr>\n",
       "      <th>1997-01-01</th>\n",
       "      <td>437.0</td>\n",
       "    </tr>\n",
       "    <tr>\n",
       "      <th>1998-01-01</th>\n",
       "      <td>643.0</td>\n",
       "    </tr>\n",
       "    <tr>\n",
       "      <th>1999-01-01</th>\n",
       "      <td>647.0</td>\n",
       "    </tr>\n",
       "    <tr>\n",
       "      <th>2000-01-01</th>\n",
       "      <td>62.0</td>\n",
       "    </tr>\n",
       "    <tr>\n",
       "      <th>2001-01-01</th>\n",
       "      <td>101.0</td>\n",
       "    </tr>\n",
       "    <tr>\n",
       "      <th>2002-01-01</th>\n",
       "      <td>15.0</td>\n",
       "    </tr>\n",
       "    <tr>\n",
       "      <th>2003-01-01</th>\n",
       "      <td>206.0</td>\n",
       "    </tr>\n",
       "    <tr>\n",
       "      <th>2004-01-01</th>\n",
       "      <td>129.0</td>\n",
       "    </tr>\n",
       "    <tr>\n",
       "      <th>2005-01-01</th>\n",
       "      <td>188.0</td>\n",
       "    </tr>\n",
       "    <tr>\n",
       "      <th>2006-01-01</th>\n",
       "      <td>139.0</td>\n",
       "    </tr>\n",
       "    <tr>\n",
       "      <th>2007-01-01</th>\n",
       "      <td>336.0</td>\n",
       "    </tr>\n",
       "    <tr>\n",
       "      <th>2008-01-01</th>\n",
       "      <td>81.7</td>\n",
       "    </tr>\n",
       "    <tr>\n",
       "      <th>2009-01-01</th>\n",
       "      <td>145.0</td>\n",
       "    </tr>\n",
       "    <tr>\n",
       "      <th>2010-01-01</th>\n",
       "      <td>NaN</td>\n",
       "    </tr>\n",
       "    <tr>\n",
       "      <th>2011-01-01</th>\n",
       "      <td>114.0</td>\n",
       "    </tr>\n",
       "    <tr>\n",
       "      <th>2012-01-01</th>\n",
       "      <td>NaN</td>\n",
       "    </tr>\n",
       "    <tr>\n",
       "      <th>2013-01-01</th>\n",
       "      <td>1480.0</td>\n",
       "    </tr>\n",
       "    <tr>\n",
       "      <th>2014-01-01</th>\n",
       "      <td>222.0</td>\n",
       "    </tr>\n",
       "    <tr>\n",
       "      <th>2015-01-01</th>\n",
       "      <td>917.0</td>\n",
       "    </tr>\n",
       "    <tr>\n",
       "      <th>2016-01-01</th>\n",
       "      <td>259.0</td>\n",
       "    </tr>\n",
       "    <tr>\n",
       "      <th>2017-01-01</th>\n",
       "      <td>111.0</td>\n",
       "    </tr>\n",
       "    <tr>\n",
       "      <th>2018-01-01</th>\n",
       "      <td>44.2</td>\n",
       "    </tr>\n",
       "    <tr>\n",
       "      <th>2019-01-01</th>\n",
       "      <td>121.0</td>\n",
       "    </tr>\n",
       "    <tr>\n",
       "      <th>2020-01-01</th>\n",
       "      <td>42.2</td>\n",
       "    </tr>\n",
       "    <tr>\n",
       "      <th>2021-01-01</th>\n",
       "      <td>249.0</td>\n",
       "    </tr>\n",
       "    <tr>\n",
       "      <th>2022-01-01</th>\n",
       "      <td>94.7</td>\n",
       "    </tr>\n",
       "    <tr>\n",
       "      <th>2023-01-01</th>\n",
       "      <td>275.0</td>\n",
       "    </tr>\n",
       "  </tbody>\n",
       "</table>\n",
       "</div>"
      ],
      "text/plain": [
       "            Discharge CFS\n",
       "Date                     \n",
       "1986-01-01          270.0\n",
       "1987-01-01          492.0\n",
       "1988-01-01          284.0\n",
       "1989-01-01           76.0\n",
       "1990-01-01          165.0\n",
       "1991-01-01          192.0\n",
       "1992-01-01          111.0\n",
       "1993-01-01          148.0\n",
       "1994-01-01          144.0\n",
       "1995-01-01          684.0\n",
       "1996-01-01          159.0\n",
       "1997-01-01          437.0\n",
       "1998-01-01          643.0\n",
       "1999-01-01          647.0\n",
       "2000-01-01           62.0\n",
       "2001-01-01          101.0\n",
       "2002-01-01           15.0\n",
       "2003-01-01          206.0\n",
       "2004-01-01          129.0\n",
       "2005-01-01          188.0\n",
       "2006-01-01          139.0\n",
       "2007-01-01          336.0\n",
       "2008-01-01           81.7\n",
       "2009-01-01          145.0\n",
       "2010-01-01            NaN\n",
       "2011-01-01          114.0\n",
       "2012-01-01            NaN\n",
       "2013-01-01         1480.0\n",
       "2014-01-01          222.0\n",
       "2015-01-01          917.0\n",
       "2016-01-01          259.0\n",
       "2017-01-01          111.0\n",
       "2018-01-01           44.2\n",
       "2019-01-01          121.0\n",
       "2020-01-01           42.2\n",
       "2021-01-01          249.0\n",
       "2022-01-01           94.7\n",
       "2023-01-01          275.0"
      ]
     },
     "execution_count": 10,
     "metadata": {},
     "output_type": "execute_result"
    }
   ],
   "source": [
    "#Max annual flooding data for Bear Creek\n",
    "Bear_Creek_Flow_Annual_Max = Bear_Creek_Flow[['Discharge CFS']].resample('YS').max()\n",
    "\n",
    "Bear_Creek_Flow_Annual_Max"
   ]
  },
  {
   "cell_type": "code",
   "execution_count": 11,
   "metadata": {},
   "outputs": [
    {
     "data": {
      "image/png": "[encoded data removed]",
      "text/plain": [
       "<Figure size 1000x400 with 1 Axes>"
      ]
     },
     "metadata": {},
     "output_type": "display_data"
    }
   ],
   "source": [
    "# Plot annual max data of Bear Creek\n",
    "\n",
    "# Create figure and plot space\n",
    "fig, ax = plt.subplots(figsize=(10, 4))\n",
    "\n",
    "# Add x-axis and y-axis\n",
    "ax.bar(Bear_Creek_Flow_Annual_Max.index.year.values,\n",
    "       Bear_Creek_Flow_Annual_Max['Discharge CFS'].values,\n",
    "       color=\"orange\")\n",
    "ax.set(xlabel= \"Date\", \n",
    "       ylabel= \"Discharge in Cubic Feet per Second\", \n",
    "       title=\"Maximum Annual Discharge of Bear Creek, Above Bear Creek Lake\")\n",
    "#add commas to y axis\n",
    "ax.get_yaxis().set_major_formatter(\n",
    "    matplotlib.ticker.FuncFormatter(lambda x, p: format(int(x), ',')))\n",
    "\n",
    "plt.show()\n"
   ]
  },
  {
   "cell_type": "code",
   "execution_count": 12,
   "metadata": {},
   "outputs": [
    {
     "data": {
      "text/html": [
       "<div>\n",
       "<style scoped>\n",
       "    .dataframe tbody tr th:only-of-type {\n",
       "        vertical-align: middle;\n",
       "    }\n",
       "\n",
       "    .dataframe tbody tr th {\n",
       "        vertical-align: top;\n",
       "    }\n",
       "\n",
       "    .dataframe thead th {\n",
       "        text-align: right;\n",
       "    }\n",
       "</style>\n",
       "<table border=\"1\" class=\"dataframe\">\n",
       "  <thead>\n",
       "    <tr style=\"text-align: right;\">\n",
       "      <th></th>\n",
       "      <th>Agency</th>\n",
       "      <th>Site I.D.</th>\n",
       "      <th>Discharge CFS</th>\n",
       "      <th>Code</th>\n",
       "    </tr>\n",
       "    <tr>\n",
       "      <th>Date</th>\n",
       "      <th></th>\n",
       "      <th></th>\n",
       "      <th></th>\n",
       "      <th></th>\n",
       "    </tr>\n",
       "  </thead>\n",
       "  <tbody>\n",
       "    <tr>\n",
       "      <th>2013-04-01</th>\n",
       "      <td>USGS</td>\n",
       "      <td>6710605</td>\n",
       "      <td>1.39</td>\n",
       "      <td>A</td>\n",
       "    </tr>\n",
       "    <tr>\n",
       "      <th>2013-04-02</th>\n",
       "      <td>USGS</td>\n",
       "      <td>6710605</td>\n",
       "      <td>1.25</td>\n",
       "      <td>A</td>\n",
       "    </tr>\n",
       "    <tr>\n",
       "      <th>2013-04-03</th>\n",
       "      <td>USGS</td>\n",
       "      <td>6710605</td>\n",
       "      <td>3.37</td>\n",
       "      <td>A</td>\n",
       "    </tr>\n",
       "    <tr>\n",
       "      <th>2013-04-04</th>\n",
       "      <td>USGS</td>\n",
       "      <td>6710605</td>\n",
       "      <td>4.27</td>\n",
       "      <td>A</td>\n",
       "    </tr>\n",
       "    <tr>\n",
       "      <th>2013-04-05</th>\n",
       "      <td>USGS</td>\n",
       "      <td>6710605</td>\n",
       "      <td>3.75</td>\n",
       "      <td>A</td>\n",
       "    </tr>\n",
       "    <tr>\n",
       "      <th>...</th>\n",
       "      <td>...</td>\n",
       "      <td>...</td>\n",
       "      <td>...</td>\n",
       "      <td>...</td>\n",
       "    </tr>\n",
       "    <tr>\n",
       "      <th>2013-10-26</th>\n",
       "      <td>USGS</td>\n",
       "      <td>6710605</td>\n",
       "      <td>NaN</td>\n",
       "      <td>NaN</td>\n",
       "    </tr>\n",
       "    <tr>\n",
       "      <th>2013-10-27</th>\n",
       "      <td>USGS</td>\n",
       "      <td>6710605</td>\n",
       "      <td>NaN</td>\n",
       "      <td>NaN</td>\n",
       "    </tr>\n",
       "    <tr>\n",
       "      <th>2013-10-28</th>\n",
       "      <td>USGS</td>\n",
       "      <td>6710605</td>\n",
       "      <td>NaN</td>\n",
       "      <td>NaN</td>\n",
       "    </tr>\n",
       "    <tr>\n",
       "      <th>2013-10-29</th>\n",
       "      <td>USGS</td>\n",
       "      <td>6710605</td>\n",
       "      <td>NaN</td>\n",
       "      <td>NaN</td>\n",
       "    </tr>\n",
       "    <tr>\n",
       "      <th>2013-10-30</th>\n",
       "      <td>USGS</td>\n",
       "      <td>6710605</td>\n",
       "      <td>NaN</td>\n",
       "      <td>NaN</td>\n",
       "    </tr>\n",
       "  </tbody>\n",
       "</table>\n",
       "<p>213 rows × 4 columns</p>\n",
       "</div>"
      ],
      "text/plain": [
       "           Agency  Site I.D.  Discharge CFS Code\n",
       "Date                                            \n",
       "2013-04-01   USGS    6710605           1.39    A\n",
       "2013-04-02   USGS    6710605           1.25    A\n",
       "2013-04-03   USGS    6710605           3.37    A\n",
       "2013-04-04   USGS    6710605           4.27    A\n",
       "2013-04-05   USGS    6710605           3.75    A\n",
       "...           ...        ...            ...  ...\n",
       "2013-10-26   USGS    6710605            NaN  NaN\n",
       "2013-10-27   USGS    6710605            NaN  NaN\n",
       "2013-10-28   USGS    6710605            NaN  NaN\n",
       "2013-10-29   USGS    6710605            NaN  NaN\n",
       "2013-10-30   USGS    6710605            NaN  NaN\n",
       "\n",
       "[213 rows x 4 columns]"
      ]
     },
     "execution_count": 12,
     "metadata": {},
     "output_type": "execute_result"
    }
   ],
   "source": [
    "# Data from 2013 - June 2023\n",
    "Bear_Creek_Flood_2013_2023 = Bear_Creek_Flow['2013-04-01':'2023-06-30']\n",
    "\n",
    "Bear_Creek_Flood_2013"
   ]
  },
  {
   "cell_type": "code",
   "execution_count": 13,
   "metadata": {},
   "outputs": [
    {
     "data": {
      "text/plain": [
       "<Axes: title={'center': 'Water Discharge of Bear Creek from April 2013-June 2023'}, xlabel='Date', ylabel='Discharge in Cubic Feet per Second'>"
      ]
     },
     "execution_count": 13,
     "metadata": {},
     "output_type": "execute_result"
    },
    {
     "data": {
      "image/png": "[encoded data removed]",
      "text/plain": [
       "<Figure size 640x480 with 1 Axes>"
      ]
     },
     "metadata": {},
     "output_type": "display_data"
    }
   ],
   "source": [
    "# Plotting the data using Pandas\n",
    "Bear_Creek_Flood_2013_2023.plot(y=\"Discharge CFS\", \n",
    "                         ylabel=\"Discharge in Cubic Feet per Second\",\n",
    "                         legend=False, title=\"Water Discharge of \" \n",
    "                         \"Bear Creek from April 2013-June 2023\")\n"
   ]
  },
  {
   "cell_type": "code",
   "execution_count": 14,
   "metadata": {},
   "outputs": [
    {
     "data": {
      "text/html": [
       "<div>\n",
       "<style scoped>\n",
       "    .dataframe tbody tr th:only-of-type {\n",
       "        vertical-align: middle;\n",
       "    }\n",
       "\n",
       "    .dataframe tbody tr th {\n",
       "        vertical-align: top;\n",
       "    }\n",
       "\n",
       "    .dataframe thead th {\n",
       "        text-align: right;\n",
       "    }\n",
       "</style>\n",
       "<table border=\"1\" class=\"dataframe\">\n",
       "  <thead>\n",
       "    <tr style=\"text-align: right;\">\n",
       "      <th></th>\n",
       "      <th>Agency</th>\n",
       "      <th>Site I.D.</th>\n",
       "      <th>Discharge CFS</th>\n",
       "      <th>Code</th>\n",
       "    </tr>\n",
       "    <tr>\n",
       "      <th>Date</th>\n",
       "      <th></th>\n",
       "      <th></th>\n",
       "      <th></th>\n",
       "      <th></th>\n",
       "    </tr>\n",
       "  </thead>\n",
       "  <tbody>\n",
       "    <tr>\n",
       "      <th>2023-04-01</th>\n",
       "      <td>USGS</td>\n",
       "      <td>6710605</td>\n",
       "      <td>8.92</td>\n",
       "      <td>P</td>\n",
       "    </tr>\n",
       "    <tr>\n",
       "      <th>2023-04-02</th>\n",
       "      <td>USGS</td>\n",
       "      <td>6710605</td>\n",
       "      <td>5.03</td>\n",
       "      <td>P</td>\n",
       "    </tr>\n",
       "    <tr>\n",
       "      <th>2023-04-03</th>\n",
       "      <td>USGS</td>\n",
       "      <td>6710605</td>\n",
       "      <td>6.96</td>\n",
       "      <td>P</td>\n",
       "    </tr>\n",
       "    <tr>\n",
       "      <th>2023-04-04</th>\n",
       "      <td>USGS</td>\n",
       "      <td>6710605</td>\n",
       "      <td>4.28</td>\n",
       "      <td>P</td>\n",
       "    </tr>\n",
       "    <tr>\n",
       "      <th>2023-04-05</th>\n",
       "      <td>USGS</td>\n",
       "      <td>6710605</td>\n",
       "      <td>2.71</td>\n",
       "      <td>P</td>\n",
       "    </tr>\n",
       "    <tr>\n",
       "      <th>...</th>\n",
       "      <td>...</td>\n",
       "      <td>...</td>\n",
       "      <td>...</td>\n",
       "      <td>...</td>\n",
       "    </tr>\n",
       "    <tr>\n",
       "      <th>2023-06-17</th>\n",
       "      <td>USGS</td>\n",
       "      <td>6710605</td>\n",
       "      <td>164.00</td>\n",
       "      <td>P</td>\n",
       "    </tr>\n",
       "    <tr>\n",
       "      <th>2023-06-18</th>\n",
       "      <td>USGS</td>\n",
       "      <td>6710605</td>\n",
       "      <td>141.00</td>\n",
       "      <td>P</td>\n",
       "    </tr>\n",
       "    <tr>\n",
       "      <th>2023-06-19</th>\n",
       "      <td>USGS</td>\n",
       "      <td>6710605</td>\n",
       "      <td>130.00</td>\n",
       "      <td>P</td>\n",
       "    </tr>\n",
       "    <tr>\n",
       "      <th>2023-06-20</th>\n",
       "      <td>USGS</td>\n",
       "      <td>6710605</td>\n",
       "      <td>128.00</td>\n",
       "      <td>P</td>\n",
       "    </tr>\n",
       "    <tr>\n",
       "      <th>2023-06-21</th>\n",
       "      <td>USGS</td>\n",
       "      <td>6710605</td>\n",
       "      <td>130.00</td>\n",
       "      <td>P</td>\n",
       "    </tr>\n",
       "  </tbody>\n",
       "</table>\n",
       "<p>82 rows × 4 columns</p>\n",
       "</div>"
      ],
      "text/plain": [
       "           Agency  Site I.D.  Discharge CFS Code\n",
       "Date                                            \n",
       "2023-04-01   USGS    6710605           8.92    P\n",
       "2023-04-02   USGS    6710605           5.03    P\n",
       "2023-04-03   USGS    6710605           6.96    P\n",
       "2023-04-04   USGS    6710605           4.28    P\n",
       "2023-04-05   USGS    6710605           2.71    P\n",
       "...           ...        ...            ...  ...\n",
       "2023-06-17   USGS    6710605         164.00    P\n",
       "2023-06-18   USGS    6710605         141.00    P\n",
       "2023-06-19   USGS    6710605         130.00    P\n",
       "2023-06-20   USGS    6710605         128.00    P\n",
       "2023-06-21   USGS    6710605         130.00    P\n",
       "\n",
       "[82 rows x 4 columns]"
      ]
     },
     "execution_count": 14,
     "metadata": {},
     "output_type": "execute_result"
    }
   ],
   "source": [
    "# Data from April 2023 - June 2023\n",
    "Bear_Creek_Flood_Spring_2023 = Bear_Creek_Flow['2023-04-01':'2023-06-30']\n",
    "\n",
    "Bear_Creek_Flood_Spring_2023"
   ]
  },
  {
   "cell_type": "code",
   "execution_count": 15,
   "metadata": {},
   "outputs": [
    {
     "data": {
      "text/plain": [
       "<Axes: title={'center': 'Water Discharge of Bear Creek, Spring 2023'}, xlabel='Date', ylabel='Discharge in Cubic Feet per Second'>"
      ]
     },
     "execution_count": 15,
     "metadata": {},
     "output_type": "execute_result"
    },
    {
     "data": {
      "image/png": "[encoded data removed]",
      "text/plain": [
       "<Figure size 640x480 with 1 Axes>"
      ]
     },
     "metadata": {},
     "output_type": "display_data"
    }
   ],
   "source": [
    "# Plotting the data using Pandas\n",
    "Bear_Creek_Flood_Spring_2023.plot(y=\"Discharge CFS\", \n",
    "                         ylabel=\"Discharge in Cubic Feet per Second\",\n",
    "                         legend=False, title=\"Water Discharge of \" \n",
    "                         \"Bear Creek, Spring 2023\")"
   ]
  }
 ],
 "metadata": {
  "kernelspec": {
   "display_name": "Python 3 (ipykernel)",
   "language": "python",
   "name": "python3"
  },
  "language_info": {
   "codemirror_mode": {
    "name": "ipython",
    "version": 3
   },
   "file_extension": ".py",
   "mimetype": "text/x-python",
   "name": "python",
   "nbconvert_exporter": "python",
   "pygments_lexer": "ipython3",
   "version": "3.10.10"
  },
  "toc": {
   "base_numbering": 1,
   "nav_menu": {},
   "number_sections": true,
   "sideBar": true,
   "skip_h1_title": false,
   "title_cell": "Table of Contents",
   "title_sidebar": "Contents",
   "toc_cell": false,
   "toc_position": {
    "height": "calc(100% - 180px)",
    "left": "10px",
    "top": "150px",
    "width": "248.2px"
   },
   "toc_section_display": true,
   "toc_window_display": true
  },
  "varInspector": {
   "cols": {
    "lenName": 16,
    "lenType": 16,
    "lenVar": 40
   },
   "kernels_config": {
    "python": {
     "delete_cmd_postfix": "",
     "delete_cmd_prefix": "del ",
     "library": "var_list.py",
     "varRefreshCmd": "print(var_dic_list())"
    },
    "r": {
     "delete_cmd_postfix": ") ",
     "delete_cmd_prefix": "rm(",
     "library": "var_list.r",
     "varRefreshCmd": "cat(var_dic_list()) "
    }
   },
   "types_to_exclude": [
    "module",
    "function",
    "builtin_function_or_method",
    "instance",
    "_Feature"
   ],
   "window_display": false
  }
 },
 "nbformat": 4,
 "nbformat_minor": 2
}
